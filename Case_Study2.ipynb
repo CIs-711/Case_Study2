{
 "cells": [
  {
   "cell_type": "markdown",
   "metadata": {},
   "source": [
    "Data Science – CIS711\n",
    "\n",
    "Case study 2\n",
    "\n",
    "- "
   ]
  },
  {
   "cell_type": "markdown",
   "metadata": {},
   "source": [
    "# Extract data"
   ]
  },
  {
   "cell_type": "code",
   "execution_count": 7,
   "metadata": {},
   "outputs": [],
   "source": [
    "#pip install cssselect"
   ]
  },
  {
   "cell_type": "code",
<<<<<<< HEAD
   "execution_count": 1,
=======
   "execution_count": 8,
>>>>>>> ad81d1e450c6d5391695e16b9232d88530cd1494
   "metadata": {},
   "outputs": [],
   "source": [
    "import numpy as np \n",
    "import pandas as pd\n",
    "import requests \n",
    "from bs4 import BeautifulSoup\n",
    "import csv\n",
    "from lxml import html\n",
    "import re"
   ]
  },
  {
   "cell_type": "markdown",
   "metadata": {
    "heading_collapsed": true
   },
   "source": [
    "## **Explanation of scraping tool**\n",
    "\n",
    "In this section we will demonstrate our scraping tool and strategy by scraping data for one player. The process of scraping in the next section relies on using for loops to automate this process for many players.\n",
    "\n",
    "The steps and tools we used for scraping are as follow:\n"
   ]
  },
  {
   "cell_type": "markdown",
   "metadata": {
    "hidden": true
   },
   "source": [
    "First, We use the **request** library and the **get** function to get a response object (to grap the code of a page) and assign it to a variable 'page' and we will start with the clubs page:"
   ]
  },
  {
   "cell_type": "code",
   "execution_count": 9,
   "metadata": {
    "hidden": true
   },
   "outputs": [],
   "source": [
    "page = requests.get('https://www.premierleague.com/clubs')"
   ]
  },
  {
   "cell_type": "markdown",
   "metadata": {
    "hidden": true
   },
   "source": [
    "Second, we get the content of the response object using function **.content provided by Request library ('page.content')**\n",
    "Then a document of this content is obtained using the **'fromstring'** function provided by **'html'** package of the **lxml** model\n",
    "The result is stored in a variable 'tree'."
   ]
  },
  {
   "cell_type": "code",
   "execution_count": 10,
   "metadata": {
    "hidden": true
   },
   "outputs": [],
   "source": [
    "tree = html.fromstring(page.content)"
   ]
  },
  {
   "cell_type": "markdown",
   "metadata": {
    "hidden": true
   },
   "source": [
    "Third, we used the **cssselect** method provided by **HTML** to locate and select elements and their childern from the 'tree' element we have gotten in the previous step.\n",
    "for example if the elemnt we want to get is the link of a specific team from the clubs page, we use the cssselect on the class of teams which is on our case **'indexItem'**\n",
    "\n",
    "Note: the class for each element can be obtained from the page by clikcing the right cursor of the mouse and choosing **inspect**, then we hover the mouse over the element to know its class    "
   ]
  },
  {
   "cell_type": "code",
   "execution_count": 11,
   "metadata": {
    "hidden": true
   },
   "outputs": [
    {
     "data": {
      "text/plain": [
       "'/clubs/1/Arsenal/overview'"
      ]
     },
     "execution_count": 11,
     "metadata": {},
     "output_type": "execute_result"
    }
   ],
   "source": [
    "linkLocation = tree.cssselect('.indexItem')[0].attrib['href']\n",
    "linkLocation"
   ]
  },
  {
   "cell_type": "markdown",
   "metadata": {
    "hidden": true
   },
   "source": [
    "Finally, this linklocation is added to the webpage link so we can get the total link of each team "
   ]
  },
  {
   "cell_type": "code",
   "execution_count": 12,
   "metadata": {
    "hidden": true
   },
   "outputs": [
    {
     "data": {
      "text/plain": [
       "'http://www.premierleague.com//clubs/1/Arsenal/squad'"
      ]
     },
     "execution_count": 12,
     "metadata": {},
     "output_type": "execute_result"
    }
   ],
   "source": [
    "temp=\"http://www.premierleague.com/\" + linkLocation\n",
    "temp=temp.replace (\"overview\", \"squad\")\n",
    "temp"
   ]
  },
  {
   "cell_type": "markdown",
   "metadata": {
    "hidden": true
   },
   "source": [
    "The same approach is used to scrape players links from each team page, the difference is that the class of the playes is **'.playerOverviewCard'**"
   ]
  },
  {
   "cell_type": "code",
   "execution_count": 13,
   "metadata": {
    "hidden": true
   },
   "outputs": [
    {
     "name": "stdout",
     "output_type": "stream",
     "text": [
      "/players/4985/Bernd-Leno/overview\n"
     ]
    },
    {
     "data": {
      "text/plain": [
       "'http://www.premierleague.com//players/4985/Bernd-Leno/overview'"
      ]
     },
     "execution_count": 13,
     "metadata": {},
     "output_type": "execute_result"
    }
   ],
   "source": [
    "squadPage = requests.get(temp)\n",
    "squadTree = html.fromstring(squadPage.content)\n",
    "    \n",
    "#Extracting players' links, they are under class 'playerOverviewCard'\n",
    "playerLocation = squadTree.cssselect('.playerOverviewCard')[0].attrib['href']\n",
    "print(playerLocation)\n",
    "temp2=\"http://www.premierleague.com/\" + playerLocation\n",
    "temp2"
   ]
  },
  {
   "cell_type": "markdown",
   "metadata": {
    "hidden": true
   },
   "source": [
    "Since we have the links of each player in the club we also use the same approach to get infomation on this player \n",
    "Class of Name:'div.name'\n",
    "class of position: '.playerOverviewAside .info'\n"
   ]
  },
  {
   "cell_type": "code",
   "execution_count": 14,
   "metadata": {
    "hidden": true
   },
   "outputs": [
    {
     "name": "stdout",
     "output_type": "stream",
     "text": [
      "Bernd Leno\n",
      "Goalkeeper\n"
     ]
    }
   ],
   "source": [
    "playerPage1 = requests.get(temp2)\n",
    "playerTree1 = html.fromstring(playerPage1.content)\n",
    "tempName = str(playerTree1.cssselect('div.name')[0].text_content())\n",
    "print(tempName)\n",
    "tempposition = str(playerTree1.cssselect('.playerOverviewAside .info')[1].text_content())\n",
    "print(tempposition)\n"
   ]
  },
  {
   "cell_type": "markdown",
   "metadata": {
    "heading_collapsed": true
   },
   "source": [
    "## **Teams' pages scraping**\n",
    "\n",
    "In this section, we are scraping the pages for each team in Premier League. To do so , we will first access the page containing all clubs. Then , we will loop through all teams and save their links in a list so we can use them latter. In the clubs page, each team is represented by a link that takes you to the team page containing its stats and overview"
   ]
  },
  {
   "cell_type": "code",
   "execution_count": 15,
   "metadata": {
    "hidden": true
   },
   "outputs": [],
   "source": [
    "#Take site and structure html\n",
    "page = requests.get('https://www.premierleague.com/clubs')\n",
    "tree = html.fromstring(page.content)"
   ]
  },
  {
   "cell_type": "code",
   "execution_count": 16,
   "metadata": {
    "hidden": true
   },
   "outputs": [],
   "source": [
    "# extract link locations related to the teams contained in the page\n",
    "linkLocation = tree.cssselect('.indexItem')"
   ]
  },
  {
   "cell_type": "code",
   "execution_count": 17,
   "metadata": {
    "hidden": true
   },
   "outputs": [],
   "source": [
    "#Create an empty list for us to send each team's link to\n",
    "teamLinks = []\n",
    "\n",
    "# There are 20 teams, we will loop through them \n",
    "for i in range(0,20):\n",
    "    \n",
    "    # A variable that contains the ith team's link location\n",
    "    temp = linkLocation[i].attrib['href']\n",
    "    \n",
    "    # To access the page of each team using the code i.e not manually, we will add the team's link to the website domain \n",
    "    temp = \"http://www.premierleague.com/\" + temp\n",
    "    \n",
    "    # When opening the team's page it will be the overview page, we will change it to squad since we are interested in players\n",
    "    temp = temp.replace(\"overview\", \"squad\")\n",
    "    \n",
    "    #Add the finished link to our teamLinks list\n",
    "    teamLinks.append(temp)"
   ]
  },
  {
   "cell_type": "markdown",
   "metadata": {
    "heading_collapsed": true
   },
   "source": [
    "## **Players' pages scraping**\n",
    "\n",
    "In this section, we will use the links we have got for each team and we will make a list of similar links for all playeras in that team. This will help us scrape the information of each player later  "
   ]
  },
  {
   "cell_type": "code",
   "execution_count": 19,
   "metadata": {
    "hidden": true,
    "scrolled": false
   },
   "outputs": [],
   "source": [
    "#Create empty lists for player links\n",
    "#First list is used for links in the overview page of each player while the second is used for the stats page\n",
    "#Each page contains information we will need for each player\n",
    "playerLink1 = []\n",
    "playerLink2 = []\n",
    "\n",
    "#looping through teams using their links\n",
    "for i in range(len(teamLinks)):\n",
    "    \n",
    "    #accessing each team page \n",
    "    squadPage = requests.get(teamLinks[i])\n",
    "     = html.fromstring(squadPage.content)\n",
    "    \n",
    "    #Extracting players' links, they are under class 'playerOverviewCard'\n",
    "    playerLocation = squadTree.cssselect('.playerOverviewCard')\n",
    "\n",
    "    #loop through players links in order to add them to the website domain. This eliminates the need for accessing each players page manually\n",
    "    for i in range(len(playerLocation)):\n",
    "        \n",
    "        # add the link to the website domain \n",
    "        playerLink1.append(\"http://www.premierleague.com/\" + playerLocation[i].attrib['href'])\n",
    "        \n",
    "        \n"
   ]
  },
  {
   "cell_type": "code",
   "execution_count": null,
   "metadata": {
    "hidden": true
   },
   "outputs": [],
   "source": [
    "for i in range(len(playerLink1)):\n",
    "    temp=playerLink1[i].replace(\"overview\", \"stats\")\n",
    "    playerLink2.append(playerLink1[i].replace(\"overview\", \"stats\"))"
   ]
  },
  {
   "cell_type": "code",
   "execution_count": null,
   "metadata": {
    "hidden": true
   },
   "outputs": [],
   "source": [
    "#Create lists for each variable\n",
    "Name = []\n",
    "Team = []\n",
    "Age = []\n",
    "Apps = []\n",
    "HeightCM = []\n",
    "WeightKG = []\n",
    "Goals= []\n",
    "Assists=[]\n",
    "Passes=[]\n",
    "Wins=[]\n",
    "Losses=[]\n",
    "Yellowcards=[]\n",
    "Redcards=[]\n",
    "Fouls=[]\n",
    "Position=[]"
   ]
  },
  {
   "cell_type": "code",
   "execution_count": null,
   "metadata": {
    "hidden": true
   },
   "outputs": [],
   "source": [
    "for i in range(len(playerLink1)):\n",
    "\n",
    "    #...download and process the two pages collected earlier...\n",
    "    playerPage1 = requests.get(playerLink1[i])\n",
    "    playerTree1 = html.fromstring(playerPage1.content)\n",
    "    playerPage2 = requests.get(playerLink2[i])\n",
    "    playerTree2 = html.fromstring(playerPage2.content)\n",
    "\n",
    "    #...find the relevant datapoint for each player, starting with name...\n",
    "    tempName = str(playerTree1.cssselect('div.name')[0].text_content())\n",
    "    #print(tempName)\n",
    "    \n",
    "    #...and team, but if there isn't a team, return \"BLANK\"...\n",
    "    try:\n",
    "        tempTeam = str(playerTree1.cssselect('.table:nth-child(1) .long')[0].text_content())\n",
    "    except IndexError:\n",
    "        tempTeam = str(\"BLANK\")\n",
    "    #print(tempTeam)\n",
    "    \n",
    "    #...and age, but if this isn't there, leave a blank 'no number' number...\n",
    "    try:  \n",
    "        tempAge = playerTree1.cssselect('.pdcol2 li:nth-child(1) .info--light')[0].text_content()\n",
    "        res= tempAge[tempAge.find(\"(\")+1:tempAge.find(\")\")]\n",
    "        #res = re.findall(r\"\\(\\s*\\+?(-?\\d+)\\s*\\)\", tempAge)\n",
    "    except IndexError:\n",
    "        tempAge = float('NaN')\n",
    "    #print(res) \n",
    "\n",
    "    #...and appearances. This is a bit of a mess on the page, so tidy it first...\n",
    "    try:\n",
    "        tempApps = playerTree2.cssselect('.statappearances')[0].text_content()\n",
    "        tempApps = int(re.search(r'\\d+', tempApps).group())\n",
    "    except IndexError:\n",
    "        tempApps = float('NaN')\n",
    "        \n",
    "\n",
    "    #...and height. Needs tidying again...\n",
    "    try:\n",
    "        tempHeight = playerTree1.cssselect('.pdcol3 li:nth-child(1) .info')[0].text_content()\n",
    "        tempHeight = int(re.search(r'\\d+', tempHeight).group())\n",
    "    except IndexError:\n",
    "        tempHeight = float('NaN')\n",
    "\n",
    "    #...and weight. Same with tidying and returning blanks if it isn't there\n",
    "    try:\n",
    "        tempWeight = playerTree1.cssselect('.pdcol3 li+ li .info')[0].text_content()\n",
    "        tempWeight = int(re.search(r'\\d+', tempWeight).group())\n",
    "    except IndexError:\n",
    "        tempWeight = float('NaN')\n",
    "    \n",
    "    try:\n",
    "        tempgoals =  playerTree2.cssselect('.statgoals')[0].text_content()\n",
    "        tempgoals = int(re.search(r'\\d+', tempgoals).group())\n",
    "    except IndexError:\n",
    "        tempgoals = float('NaN')\n",
    "    #print(tempgoals)\n",
    "    \n",
    "    try:\n",
    "        tempassists =  playerTree2.cssselect('.statgoal_assist')[0].text_content()\n",
    "        tempassists = int(re.search(r'\\d+', tempassists).group())\n",
    "    except IndexError:\n",
    "        tempassists = float('NaN')\n",
    "    #print(tempassists)\n",
    "    \n",
    "    try:\n",
    "        tempapasses =  playerTree2.cssselect('.stattotal_pass')[0].text_content()\n",
    "        res2=tempapasses.replace(\",\", \"\")\n",
    "        tempapasses = int(re.search(r'\\d+', res2).group())\n",
    "        \n",
    "    except IndexError:\n",
    "        tempapasses = float('NaN')\n",
    "    #print(tempapasses)\n",
    "    \n",
    "    \n",
    "    try:\n",
    "        tempwins = playerTree2.cssselect('.statwins')[0].text_content()\n",
    "        tempwins = int(re.search(r'\\d+', tempwins).group())\n",
    "    except IndexError:\n",
    "        tempwins = float('NaN')\n",
    "    \n",
    "    try:\n",
    "        templosses = playerTree2.cssselect('.statlosses')[0].text_content()\n",
    "        templosses = int(re.search(r'\\d+', templosses).group())\n",
    "    except IndexError:\n",
    "        templosses = float('NaN')\n",
    "        \n",
    "    try:\n",
    "        tempYellowcards = playerTree2.cssselect('.statyellow_card')[0].text_content()\n",
    "        tempYellowcards = int(re.search(r'\\d+', tempYellowcards).group())\n",
    "    except IndexError:\n",
    "        tempYellowcards = float('NaN')\n",
    "        \n",
    "    try:\n",
    "        tempRedcards = playerTree2.cssselect('.statred_card')[0].text_content()\n",
    "        tempRedcards = int(re.search(r'\\d+', tempRedcards).group())\n",
    "    except IndexError:\n",
    "        tempRedcards = float('NaN')\n",
    "        \n",
    "    try:\n",
    "        tempFouls = playerTree2.cssselect('.statfouls')[0].text_content()\n",
    "        tempFouls = int(re.search(r'\\d+', tempFouls).group())\n",
    "    except IndexError:\n",
    "        tempFouls = float('NaN')     \n",
    "        \n",
    "    try:\n",
    "        tempposition = str(playerTree1.cssselect('.playerOverviewAside .info')[1].text_content())\n",
    "    except IndexError:\n",
    "        tempposition = str(\"BLANK\")\n",
    "    #print(tempposition)\n",
    "    \n",
    "    #Now that we have a player's full details - add them all to the lists\n",
    "    \n",
    "    Name.append(tempName)\n",
    "    Team.append(tempTeam)\n",
    "    Age.append(res)\n",
    "    Apps.append(tempApps)\n",
    "    HeightCM.append(tempHeight)\n",
    "    WeightKG.append(tempWeight)\n",
    "    Goals.append(tempgoals)\n",
    "    Assists.append(tempassists)\n",
    "    Passes.append(tempapasses)\n",
    "    Wins.append(tempwins)\n",
    "    Losses.append(templosses)\n",
    "    Yellowcards.append(tempYellowcards)\n",
    "    Redcards.append(tempRedcards)\n",
    "    Fouls.append(tempFouls)\n",
    "    Position.append(tempposition)"
   ]
  },
  {
   "cell_type": "code",
   "execution_count": null,
   "metadata": {
    "hidden": true
   },
   "outputs": [],
   "source": [
    "#Create data frame from lists\n",
    "df = pd.DataFrame(\n",
    "    {'Name':Name,\n",
    "     'Team':Team,\n",
    "     'Position':Position,\n",
    "     'Age':Age,\n",
    "     'Apps':Apps,\n",
    "     'HeightCM':HeightCM,\n",
    "     'WeightKG':WeightKG,\n",
    "    'Goals':Goals,\n",
    "    'Assists':Assists,\n",
    "    'Passes':Passes,\n",
    "     'Wins':Wins,\n",
    "      'Losses':Losses,\n",
    "   'Yellowcards':Yellowcards,\n",
    "    'Redcards':Redcards,\n",
    "    'Fouls':Fouls})\n",
    "\n",
    "#Show me the top 20 rows:\n",
    "\n",
    "df.head(20)"
   ]
  },
  {
   "cell_type": "code",
   "execution_count": null,
   "metadata": {
    "hidden": true
   },
   "outputs": [],
   "source": [
    "df.shape"
   ]
  },
  {
   "cell_type": "code",
   "execution_count": null,
   "metadata": {
    "hidden": true
   },
   "outputs": [],
   "source": [
    "df.to_csv('Teams_data.csv' ,index=False )"
   ]
  },
  {
   "cell_type": "markdown",
   "metadata": {
    "heading_collapsed": true
   },
   "source": [
    "# Pre-processing"
   ]
  },
  {
   "cell_type": "code",
   "execution_count": null,
   "metadata": {
    "hidden": true
   },
   "outputs": [],
   "source": [
    "df = pd.read_csv('Teams_data.csv')"
   ]
  },
  {
   "cell_type": "code",
   "execution_count": null,
   "metadata": {
    "hidden": true
   },
   "outputs": [],
   "source": [
    "df.info()"
   ]
  },
  {
   "cell_type": "code",
   "execution_count": null,
   "metadata": {
    "hidden": true
   },
   "outputs": [],
   "source": [
    "#cheking for null values\n",
    "df.isnull().sum()"
   ]
  },
  {
   "cell_type": "code",
   "execution_count": null,
   "metadata": {
    "hidden": true
   },
   "outputs": [],
   "source": [
    "df=df[df['Apps']!=0]\n",
    "df.reset_index(drop=True, inplace=True  )"
   ]
  },
  {
   "cell_type": "code",
   "execution_count": null,
   "metadata": {
    "hidden": true,
    "scrolled": true
   },
   "outputs": [],
   "source": [
    "df.isnull().sum()"
   ]
  },
  {
   "cell_type": "markdown",
   "metadata": {
    "hidden": true
   },
   "source": [
    "We have a missing data in HeightCM and WeightKG columns. So, we will fill them with the average height and weight for the players in the same age."
   ]
  },
  {
   "cell_type": "code",
   "execution_count": null,
   "metadata": {
    "hidden": true
   },
   "outputs": [],
   "source": [
    "# group the players by age\n",
    "group = df[['HeightCM' ,'WeightKG' ,'Age']].groupby('Age').mean()\n",
    "# fill the null values with the mean \n",
    "for i , r in df[df['HeightCM'].isnull()].iterrows():\n",
    "    age = df.iloc[i,3]\n",
    "    df.iloc[i,5] = group.loc[age , 'HeightCM']\n",
    "    \n",
    "for i , r in df[df['WeightKG'].isnull()].iterrows():\n",
    "    age = df.iloc[i,3]\n",
    "    df.iloc[i,6] = group.loc[age , 'WeightKG']\n",
    "df.isnull().sum()"
   ]
  },
  {
   "cell_type": "code",
   "execution_count": null,
   "metadata": {
    "hidden": true
   },
   "outputs": [],
   "source": [
    "#creating new columns\n",
    "\n",
    "df['Wins_ratio'] = df['Wins'] / df['Apps']\n",
    "\n",
    "df['Goals_ratio'] = df['Goals'] / df['Apps']\n",
    "    \n",
    "\n",
    "df['Yellowcardsd_ratio'] = df['Yellowcards'] / df['Apps']\n",
    "\n",
    "    \n",
    "df['Fouls_ratio'] = df['Fouls'] / df['Apps']\n",
    "\n",
    "    \n",
    "\n",
    "df['Passes_ratio'] = df['Passes'] / df['Apps']\n",
    "  "
   ]
  },
  {
   "cell_type": "code",
   "execution_count": null,
   "metadata": {
    "hidden": true
   },
   "outputs": [],
   "source": [
    "df.head()"
   ]
  },
  {
   "cell_type": "code",
   "execution_count": null,
   "metadata": {
    "hidden": true
   },
   "outputs": [],
   "source": [
    "# for further work we will need some columns to be descritisized, in this section we add descritisized columns to the data\n",
    "# descritizing of some columns\n",
    "df['Ycards_ratio_dicretized']=pd.qcut(df['Yellowcardsd_ratio'],3, labels=['Low','Medium','High'])\n",
    "df['Fouls_ratio_dicretized']=pd.qcut(df['Fouls_ratio'],3, labels=['Low','Medium','High'])"
   ]
  },
  {
   "cell_type": "code",
   "execution_count": null,
   "metadata": {
    "hidden": true
   },
   "outputs": [],
   "source": [
    "df.head()"
   ]
  },
  {
   "cell_type": "code",
   "execution_count": null,
   "metadata": {
    "hidden": true
   },
   "outputs": [],
   "source": [
    "df.describe() # statical sammary"
   ]
  },
  {
   "cell_type": "code",
   "execution_count": null,
   "metadata": {
    "hidden": true,
    "scrolled": false
   },
   "outputs": [],
   "source": [
    "df.info()"
   ]
  },
  {
   "cell_type": "markdown",
   "metadata": {},
   "source": [
    "Now let's see how many teams we have and how many players they contain"
   ]
  },
  {
   "cell_type": "code",
   "execution_count": null,
   "metadata": {
    "hidden": true
   },
   "outputs": [],
   "source": [
    "df['Team'].value_counts()"
   ]
  },
  {
   "cell_type": "markdown",
   "metadata": {
    "hidden": true
   },
   "source": [
    "We now will clean the teams names"
   ]
  },
  {
   "cell_type": "code",
   "execution_count": null,
   "metadata": {
    "hidden": true
   },
   "outputs": [],
   "source": [
    "# remove '(Loan)' and ' U21' from teams name\n",
    "# substitute & to and\n",
    "df['Team'] = df['Team'].apply(lambda x : re.sub(\"\\(Loan\\)|U21\",' ' ,x).strip())\n",
    "df['Team'] = df['Team'].apply(lambda x : re.sub(\"&\",'and' ,x))"
   ]
  },
  {
   "cell_type": "code",
   "execution_count": null,
   "metadata": {
    "hidden": true
   },
   "outputs": [],
   "source": [
    "df['Team'].value_counts()"
   ]
  },
  {
   "cell_type": "markdown",
   "metadata": {},
   "source": [
    "There is still one team with one player so we will drop it "
   ]
  },
  {
   "cell_type": "code",
   "execution_count": null,
   "metadata": {},
   "outputs": [],
   "source": [
    "df = df.drop(index = 395).reset_index()\n",
    "df['Team'].value_counts()"
   ]
  },
  {
   "cell_type": "code",
   "execution_count": null,
   "metadata": {
    "hidden": true
   },
   "outputs": [],
   "source": [
    "df.to_csv('processing_Teams_data.csv' ,index=False )"
   ]
  },
  {
   "cell_type": "markdown",
   "metadata": {
    "heading_collapsed": true
   },
   "source": [
    "# Analysis"
   ]
  },
  {
   "cell_type": "code",
<<<<<<< HEAD
   "execution_count": 2,
=======
   "execution_count": null,
>>>>>>> ad81d1e450c6d5391695e16b9232d88530cd1494
   "metadata": {
    "hidden": true
   },
   "outputs": [],
   "source": [
    "import matplotlib.pyplot as plt\n",
    "import seaborn as sns\n",
    "import scipy.stats as stats\n",
    "%matplotlib inline"
   ]
  },
  {
   "cell_type": "code",
<<<<<<< HEAD
   "execution_count": 3,
=======
   "execution_count": null,
>>>>>>> ad81d1e450c6d5391695e16b9232d88530cd1494
   "metadata": {
    "hidden": true
   },
   "outputs": [],
   "source": [
    "df = pd.read_csv('processing_Teams_data.csv')"
   ]
  },
  {
   "cell_type": "code",
<<<<<<< HEAD
   "execution_count": 4,
=======
   "execution_count": null,
>>>>>>> ad81d1e450c6d5391695e16b9232d88530cd1494
   "metadata": {
    "hidden": true,
    "scrolled": false
   },
<<<<<<< HEAD
   "outputs": [
    {
     "data": {
      "text/html": [
       "<div>\n",
       "<style scoped>\n",
       "    .dataframe tbody tr th:only-of-type {\n",
       "        vertical-align: middle;\n",
       "    }\n",
       "\n",
       "    .dataframe tbody tr th {\n",
       "        vertical-align: top;\n",
       "    }\n",
       "\n",
       "    .dataframe thead th {\n",
       "        text-align: right;\n",
       "    }\n",
       "</style>\n",
       "<table border=\"1\" class=\"dataframe\">\n",
       "  <thead>\n",
       "    <tr style=\"text-align: right;\">\n",
       "      <th></th>\n",
       "      <th>index</th>\n",
       "      <th>Name</th>\n",
       "      <th>Team</th>\n",
       "      <th>Position</th>\n",
       "      <th>Age</th>\n",
       "      <th>Apps</th>\n",
       "      <th>HeightCM</th>\n",
       "      <th>WeightKG</th>\n",
       "      <th>Goals</th>\n",
       "      <th>Assists</th>\n",
       "      <th>...</th>\n",
       "      <th>Yellowcards</th>\n",
       "      <th>Redcards</th>\n",
       "      <th>Fouls</th>\n",
       "      <th>Wins_ratio</th>\n",
       "      <th>Goals_ratio</th>\n",
       "      <th>Yellowcardsd_ratio</th>\n",
       "      <th>Fouls_ratio</th>\n",
       "      <th>Passes_ratio</th>\n",
       "      <th>Ycards_ratio_dicretized</th>\n",
       "      <th>Fouls_ratio_dicretized</th>\n",
       "    </tr>\n",
       "  </thead>\n",
       "  <tbody>\n",
       "    <tr>\n",
       "      <th>0</th>\n",
       "      <td>0</td>\n",
       "      <td>Bernd Leno</td>\n",
       "      <td>Arsenal</td>\n",
       "      <td>Goalkeeper</td>\n",
       "      <td>29</td>\n",
       "      <td>96</td>\n",
       "      <td>190.0</td>\n",
       "      <td>83.0</td>\n",
       "      <td>0</td>\n",
       "      <td>0</td>\n",
       "      <td>...</td>\n",
       "      <td>2</td>\n",
       "      <td>1</td>\n",
       "      <td>2</td>\n",
       "      <td>0.437500</td>\n",
       "      <td>0.000000</td>\n",
       "      <td>0.020833</td>\n",
       "      <td>0.020833</td>\n",
       "      <td>28.010417</td>\n",
       "      <td>Low</td>\n",
       "      <td>Low</td>\n",
       "    </tr>\n",
       "    <tr>\n",
       "      <th>1</th>\n",
       "      <td>1</td>\n",
       "      <td>RÃºnar Alex RÃºnarsson</td>\n",
       "      <td>Arsenal</td>\n",
       "      <td>Goalkeeper</td>\n",
       "      <td>26</td>\n",
       "      <td>1</td>\n",
       "      <td>186.0</td>\n",
       "      <td>76.0</td>\n",
       "      <td>0</td>\n",
       "      <td>0</td>\n",
       "      <td>...</td>\n",
       "      <td>0</td>\n",
       "      <td>0</td>\n",
       "      <td>0</td>\n",
       "      <td>0.000000</td>\n",
       "      <td>0.000000</td>\n",
       "      <td>0.000000</td>\n",
       "      <td>0.000000</td>\n",
       "      <td>9.000000</td>\n",
       "      <td>Low</td>\n",
       "      <td>Low</td>\n",
       "    </tr>\n",
       "    <tr>\n",
       "      <th>2</th>\n",
       "      <td>2</td>\n",
       "      <td>Mat Ryan</td>\n",
       "      <td>Arsenal</td>\n",
       "      <td>Goalkeeper</td>\n",
       "      <td>29</td>\n",
       "      <td>124</td>\n",
       "      <td>184.0</td>\n",
       "      <td>82.0</td>\n",
       "      <td>0</td>\n",
       "      <td>0</td>\n",
       "      <td>...</td>\n",
       "      <td>3</td>\n",
       "      <td>0</td>\n",
       "      <td>2</td>\n",
       "      <td>0.233871</td>\n",
       "      <td>0.000000</td>\n",
       "      <td>0.024194</td>\n",
       "      <td>0.016129</td>\n",
       "      <td>29.000000</td>\n",
       "      <td>Low</td>\n",
       "      <td>Low</td>\n",
       "    </tr>\n",
       "    <tr>\n",
       "      <th>3</th>\n",
       "      <td>3</td>\n",
       "      <td>HÃ©ctor BellerÃ­n</td>\n",
       "      <td>Arsenal</td>\n",
       "      <td>Defender</td>\n",
       "      <td>26</td>\n",
       "      <td>183</td>\n",
       "      <td>178.0</td>\n",
       "      <td>74.0</td>\n",
       "      <td>8</td>\n",
       "      <td>20</td>\n",
       "      <td>...</td>\n",
       "      <td>30</td>\n",
       "      <td>0</td>\n",
       "      <td>143</td>\n",
       "      <td>0.540984</td>\n",
       "      <td>0.043716</td>\n",
       "      <td>0.163934</td>\n",
       "      <td>0.781421</td>\n",
       "      <td>44.486339</td>\n",
       "      <td>High</td>\n",
       "      <td>Medium</td>\n",
       "    </tr>\n",
       "    <tr>\n",
       "      <th>4</th>\n",
       "      <td>4</td>\n",
       "      <td>Kieran Tierney</td>\n",
       "      <td>Arsenal</td>\n",
       "      <td>Defender</td>\n",
       "      <td>23</td>\n",
       "      <td>41</td>\n",
       "      <td>178.0</td>\n",
       "      <td>70.0</td>\n",
       "      <td>2</td>\n",
       "      <td>4</td>\n",
       "      <td>...</td>\n",
       "      <td>6</td>\n",
       "      <td>0</td>\n",
       "      <td>22</td>\n",
       "      <td>0.439024</td>\n",
       "      <td>0.048780</td>\n",
       "      <td>0.146341</td>\n",
       "      <td>0.536585</td>\n",
       "      <td>38.780488</td>\n",
       "      <td>High</td>\n",
       "      <td>Low</td>\n",
       "    </tr>\n",
       "  </tbody>\n",
       "</table>\n",
       "<p>5 rows × 23 columns</p>\n",
       "</div>"
      ],
      "text/plain": [
       "   index                    Name     Team    Position  Age  Apps  HeightCM  \\\n",
       "0      0              Bernd Leno  Arsenal  Goalkeeper   29    96     190.0   \n",
       "1      1  RÃºnar Alex RÃºnarsson  Arsenal  Goalkeeper   26     1     186.0   \n",
       "2      2                Mat Ryan  Arsenal  Goalkeeper   29   124     184.0   \n",
       "3      3       HÃ©ctor BellerÃ­n  Arsenal    Defender   26   183     178.0   \n",
       "4      4          Kieran Tierney  Arsenal    Defender   23    41     178.0   \n",
       "\n",
       "   WeightKG  Goals  Assists  ...  Yellowcards  Redcards  Fouls  Wins_ratio  \\\n",
       "0      83.0      0        0  ...            2         1      2    0.437500   \n",
       "1      76.0      0        0  ...            0         0      0    0.000000   \n",
       "2      82.0      0        0  ...            3         0      2    0.233871   \n",
       "3      74.0      8       20  ...           30         0    143    0.540984   \n",
       "4      70.0      2        4  ...            6         0     22    0.439024   \n",
       "\n",
       "   Goals_ratio  Yellowcardsd_ratio  Fouls_ratio  Passes_ratio  \\\n",
       "0     0.000000            0.020833     0.020833     28.010417   \n",
       "1     0.000000            0.000000     0.000000      9.000000   \n",
       "2     0.000000            0.024194     0.016129     29.000000   \n",
       "3     0.043716            0.163934     0.781421     44.486339   \n",
       "4     0.048780            0.146341     0.536585     38.780488   \n",
       "\n",
       "   Ycards_ratio_dicretized  Fouls_ratio_dicretized  \n",
       "0                      Low                     Low  \n",
       "1                      Low                     Low  \n",
       "2                      Low                     Low  \n",
       "3                     High                  Medium  \n",
       "4                     High                     Low  \n",
       "\n",
       "[5 rows x 23 columns]"
      ]
     },
     "execution_count": 4,
     "metadata": {},
     "output_type": "execute_result"
    }
   ],
=======
   "outputs": [],
>>>>>>> ad81d1e450c6d5391695e16b9232d88530cd1494
   "source": [
    "df.head()"
   ]
  },
  {
   "cell_type": "markdown",
   "metadata": {
    "hidden": true
   },
   "source": [
    "check for normality useing Probability-plot"
   ]
  },
  {
   "cell_type": "code",
   "execution_count": null,
   "metadata": {
    "hidden": true,
    "scrolled": true
   },
   "outputs": [],
   "source": [
    "plt.subplot(3,3,1)\n",
    "#Fouls\n",
    "data = df['Fouls_ratio'].values\n",
    "stats.probplot(data , plot =plt)\n",
    "plt.title('Fouls_ratio')\n",
    "plt.xlabel(' ')\n",
    "plt.xticks([])\n",
    "\n",
    "plt.subplot(3,3,2)\n",
    "#Goals\n",
    "data = df['Goals_ratio'].values\n",
    "stats.probplot(data , plot =plt)\n",
    "plt.title('Goals_ratio')\n",
    "plt.xlabel(' ')\n",
    "plt.xticks([])\n",
    "\n",
    "plt.subplot(3,3,3)\n",
    "#Passes\n",
    "data = df['Passes_ratio'].values\n",
    "stats.probplot(data , plot =plt)\n",
    "plt.title('Passes_ratio')\n",
    "plt.xlabel(' ')\n",
    "plt.xticks([])\n",
    "\n",
    "plt.subplot(3,3,4)\n",
    "#Wins\n",
    "data = df['Wins_ratio'].values\n",
    "stats.probplot(data , plot =plt)\n",
    "plt.title('Wins_ratio')\n",
    "plt.xlabel(' ')\n",
    "plt.xticks([])\n",
    "\n",
    "\n",
    "plt.subplot(3,3,5)\n",
    "#Yellowcards\n",
    "data = df['Yellowcardsd_ratio'].values\n",
    "stats.probplot(data , plot =plt)\n",
    "plt.title('Yellowcardsd_ratio')\n",
    "plt.xlabel(' ')\n",
    "\n",
    "plt.subplot(3,3,6)\n",
    "#HeightCM\n",
    "data = df['HeightCM'].values\n",
    "stats.probplot(data , plot =plt)\n",
    "plt.title('HeightCM')\n",
    "plt.xlabel(' ')\n",
    "\n",
    "plt.subplot(3,3,7)\n",
    "#WeightKG\n",
    "data = df['WeightKG'].values\n",
    "stats.probplot(data , plot =plt)\n",
    "plt.title('WeightKG')\n",
    "plt.xlabel(' ')\n",
    "\n",
    "plt.rcParams[\"figure.figsize\"] = (15,10)\n",
    "plt.show()"
   ]
  },
  {
   "cell_type": "markdown",
   "metadata": {
    "hidden": true
   },
   "source": [
    "### check for normality useing D’Agostino–Pearson omnibus test"
   ]
  },
  {
   "cell_type": "code",
   "execution_count": null,
   "metadata": {
    "hidden": true
   },
   "outputs": [],
   "source": [
    "print(stats.normaltest(df['WeightKG'].values))\n",
    "print(stats.normaltest(df['HeightCM'].values))\n",
    "print(stats.normaltest(df['Fouls_ratio'].values))\n",
    "print(stats.normaltest(df['Goals_ratio'].values))\n",
    "print(stats.normaltest(df['Passes_ratio'].values))\n",
    "print(stats.normaltest(df['Wins_ratio'].values))\n",
    "print(stats.normaltest(df['Yellowcardsd_ratio'].values))"
   ]
  },
  {
   "cell_type": "markdown",
   "metadata": {
    "hidden": true
   },
   "source": [
    "From the first figur we can notice that Passes_ratio, WeightKG and HeightCM are somehow fitting the line but after the D’Agostino–Pearson omnibus test it turns out that both of HeightCM and Fouls_ratio are the data with normal distribution\n",
    "\n",
    "---------------------------------------"
   ]
  },
  {
   "cell_type": "code",
<<<<<<< HEAD
   "execution_count": 24,
   "metadata": {},
   "outputs": [
    {
     "data": {
      "image/png": "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\n",
      "text/plain": [
       "<Figure size 432x288 with 2 Axes>"
      ]
     },
     "metadata": {
      "needs_background": "light"
     },
     "output_type": "display_data"
    }
   ],
=======
   "execution_count": null,
   "metadata": {},
   "outputs": [],
>>>>>>> ad81d1e450c6d5391695e16b9232d88530cd1494
   "source": [
    "plt.subplot(1,2,1)\n",
    "sns.histplot(df['HeightCM'], color='k', kde=True)\n",
    "\n",
    "plt.subplot(1,2,2)\n",
    "sns.histplot(df['Fouls_ratio'], color='b', kde=True)\n",
    "plt.show()"
   ]
  },
  {
   "cell_type": "markdown",
   "metadata": {},
   "source": [
    "___________________________________"
   ]
  },
  {
   "cell_type": "code",
   "execution_count": null,
   "metadata": {},
   "outputs": [],
   "source": [
    "#plot the distribution of Height for each Positon\n",
    "sns.catplot(x=\"Position\", y=\"HeightCM\", kind=\"box\", data=df)\n",
    "plt.show()"
   ]
  },
  {
   "cell_type": "markdown",
   "metadata": {},
   "source": [
    "We can see that the mean of heights for defender, midfielder and forward are close to each other. In other hand for players in goalkeeper position the average is higher than hights for other positions."
   ]
  },
  {
   "cell_type": "markdown",
   "metadata": {},
   "source": [
    "______________________"
   ]
  },
  {
   "cell_type": "code",
   "execution_count": null,
   "metadata": {},
   "outputs": [],
   "source": [
    "sns.relplot(x=\"Apps\", y=\"Fouls\",hue='Position' ,data=df)\n",
    "plt.show()"
   ]
  },
  {
   "cell_type": "markdown",
   "metadata": {},
   "source": [
    "There seems to be a positive correlatoin between the number of apps and the number of fouls commited by players in each position. The only exception for this relation is for the apps of goal keepers and their commited fouls. It is obvious that the number of fouls committed by goal keeper is low regardless of the number of games they have played. This could be attributed to the fact that goal keepers usually have less contact with other players."
   ]
  },
  {
   "cell_type": "markdown",
   "metadata": {},
   "source": [
    "________________"
   ]
  },
  {
   "cell_type": "code",
   "execution_count": null,
   "metadata": {},
   "outputs": [],
   "source": [
    "#plt.subplot(1,2,1)\n",
    "sns.catplot(x=\"Fouls_ratio_dicretized\", y=\"Passes_ratio\", kind=\"box\", data=df)\n",
    "#plt.subplot(1,2,2)\n",
    "sns.catplot(x=\"Ycards_ratio_dicretized\", y=\"Passes_ratio\", kind=\"box\", data=df)\n",
    "plt.show()\n"
   ]
  },
  {
   "cell_type": "markdown",
   "metadata": {},
   "source": [
    "____________"
   ]
  },
  {
   "cell_type": "markdown",
   "metadata": {},
   "source": [
    "Now we will create new table grouped by teams contain the total of red cards and the total of yellow cards"
   ]
  },
  {
   "cell_type": "code",
   "execution_count": null,
   "metadata": {},
   "outputs": [],
   "source": [
    "Team = df[[ 'Redcards','Yellowcards' ,'Team']].groupby('Team').agg(sum)\n",
    "Team.head()"
   ]
  },
  {
   "cell_type": "code",
   "execution_count": null,
   "metadata": {},
   "outputs": [],
   "source": [
    "x = np.arange(len(Team))\n",
    "width = 0.3\n",
    "plt.barh(x , Team['Yellowcards'],width, color = '#f7ea00' )\n",
    "plt.barh(x-0.3 ,Team['Redcards'],width , color='#ce1212')\n",
    "\n",
    "plt.yticks(x, Team.index)\n",
    "plt.legend([\"Yellow cards\", \"Red cards\"])\n",
    "plt.xlabel('Total numbers',fontsize=16)\n",
    "plt.ylabel('Teams',fontsize=16)\n",
    "plt.show()"
   ]
  },
  {
   "cell_type": "markdown",
   "metadata": {},
   "source": [
    "# Type of study"
   ]
  },
  {
   "cell_type": "markdown",
   "metadata": {},
   "source": [
    "Our case study is :\n",
    "- **Observational study**; because we collected information, but did not interact with the study population (players) and without trying to affect them.\n",
    "\n",
    "- **Retrospective study**; because we took our data from previous matches since 2015 up to this season of Premier league.\n",
    "\n",
    "- **longitudinal investigations**; we have collected information(Apps, Goals, Fouls, wins,passes,..etc) over a period of time for 6 seasons(2015-2021), multiple times from each player.\n",
    "\n",
    "- **Case-Control**; in our study we evaluated the teams based on certain criteria. The top four in the Premier League qualify for the Champions League group stages - plus the winners of the Champions League and Europa League, there can be a maximum of five English teams in the Champions League.\n"
   ]
  },
  {
   "cell_type": "markdown",
   "metadata": {},
   "source": [
    "# Hypothesis Testing"
   ]
  },
  {
   "cell_type": "markdown",
   "metadata": {},
   "source": [
    "In Premier league when a club wants to loan a new goalkeeper they have to put into consideration different things, depending on goalkeepers posture their heights have to be higher from others in the same team.\n",
    "\n",
    "For each 20 team in Premier League there are 4 positions : **goalkeeper, defender, midfielder and forward**.The average amount of players' height is different from position to another as shown in the figure below. The mean for goalkeepers is 190.666667. Is this difference significant? Test at the 5% level of significance.\n",
    " "
   ]
  },
  {
   "cell_type": "code",
   "execution_count": null,
   "metadata": {},
   "outputs": [],
   "source": [
    "#plot the distribution of Height for each Position\n",
    "sns.catplot(x=\"Position\", y=\"HeightCM\", kind=\"box\", data=df)\n",
    "plt.show()"
   ]
  },
  {
   "cell_type": "markdown",
   "metadata": {},
   "source": [
    "$H_0: \\mu_1 = \\mu_2  $ \n",
    "\n",
    "$H_1: \\mu_1 \\neq \\mu_2 $"
   ]
  },
  {
   "cell_type": "code",
   "execution_count": null,
   "metadata": {},
   "outputs": [],
   "source": [
    "df.describe()"
   ]
  },
  {
   "cell_type": "code",
   "execution_count": null,
   "metadata": {},
   "outputs": [],
   "source": [
    "df.loc[df.Position == \"Goalkeeper\"].describe()"
   ]
  },
  {
   "cell_type": "code",
   "execution_count": null,
   "metadata": {},
   "outputs": [],
   "source": [
    "data1 = df.loc[df.Position == \"Goalkeeper\"][\"HeightCM\"].values\n",
    "data2 = df.loc[df.Position != \"Goalkeeper\"][\"HeightCM\"].values\n",
    "\n",
    "ttest, pVal = stats.ttest_ind(data1,data2)\n",
    "\n",
    "if pVal < 0.05:\n",
    "    print(\"Mean of Goalkeepers' height is significantly different from the mean of other positions' height\")\n",
    "    print(' p value ={0} '.format(pVal))"
   ]
  },
  {
   "cell_type": "markdown",
   "metadata": {},
   "source": [
    "#### So the p-value was less than alpha which means we have to reject the null hypothesis.."
   ]
  }
 ],
 "metadata": {
  "kernelspec": {
   "display_name": "Python 3",
   "language": "python",
   "name": "python3"
  },
  "language_info": {
   "codemirror_mode": {
    "name": "ipython",
    "version": 3
   },
   "file_extension": ".py",
   "mimetype": "text/x-python",
   "name": "python",
   "nbconvert_exporter": "python",
   "pygments_lexer": "ipython3",
   "version": "3.8.5"
  }
 },
 "nbformat": 4,
 "nbformat_minor": 4
}
