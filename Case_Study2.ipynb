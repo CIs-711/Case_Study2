{
 "cells": [
  {
   "cell_type": "markdown",
   "metadata": {},
   "source": [
    "Data Science – CIS711\n",
    "\n",
    "Case study 2\n",
    "\n",
    "- "
   ]
  },
  {
   "cell_type": "markdown",
   "metadata": {},
   "source": [
    "# Extract data"
   ]
  },
  {
   "cell_type": "code",
   "execution_count": 7,
   "metadata": {},
   "outputs": [],
   "source": [
    "#pip install cssselect"
   ]
  },
  {
   "cell_type": "code",
   "execution_count": 8,
   "metadata": {},
   "outputs": [],
   "source": [
    "import numpy as np \n",
    "import pandas as pd\n",
    "import requests \n",
    "from bs4 import BeautifulSoup\n",
    "import csv\n",
    "from lxml import html\n",
    "import re"
   ]
  },
  {
   "cell_type": "markdown",
   "metadata": {
    "heading_collapsed": true
   },
   "source": [
    "## **Explanation of scraping tool**\n",
    "\n",
    "In this section we will demonstrate our scraping tool and strategy by scraping data for one player. The process of scraping in the next section relies on using for loops to automate this process for many players.\n",
    "\n",
    "The steps and tools we used for scraping are as follow:\n"
   ]
  },
  {
   "cell_type": "markdown",
   "metadata": {
    "hidden": true
   },
   "source": [
    "First, We use the **request** library and the **get** function to get a response object (to grap the code of a page) and assign it to a variable 'page' and we will start with the clubs page:"
   ]
  },
  {
   "cell_type": "code",
   "execution_count": 9,
   "metadata": {
    "hidden": true
   },
   "outputs": [],
   "source": [
    "page = requests.get('https://www.premierleague.com/clubs')"
   ]
  },
  {
   "cell_type": "markdown",
   "metadata": {
    "hidden": true
   },
   "source": [
    "Second, we get the content of the response object using function **.content provided by Request library ('page.content')**\n",
    "Then a document of this content is obtained using the **'fromstring'** function provided by **'html'** package of the **lxml** model\n",
    "The result is stored in a variable 'tree'."
   ]
  },
  {
   "cell_type": "code",
   "execution_count": 10,
   "metadata": {
    "hidden": true
   },
   "outputs": [],
   "source": [
    "tree = html.fromstring(page.content)"
   ]
  },
  {
   "cell_type": "markdown",
   "metadata": {
    "hidden": true
   },
   "source": [
    "Third, we used the **cssselect** method provided by **HTML** to locate and select elements and their childern from the 'tree' element we have gotten in the previous step.\n",
    "for example if the elemnt we want to get is the link of a specific team from the clubs page, we use the cssselect on the class of teams which is on our case **'indexItem'**\n",
    "\n",
    "Note: the class for each element can be obtained from the page by clikcing the right cursor of the mouse and choosing **inspect**, then we hover the mouse over the element to know its class    "
   ]
  },
  {
   "cell_type": "code",
   "execution_count": 11,
   "metadata": {
    "hidden": true
   },
   "outputs": [
    {
     "data": {
      "text/plain": [
       "'/clubs/1/Arsenal/overview'"
      ]
     },
     "execution_count": 11,
     "metadata": {},
     "output_type": "execute_result"
    }
   ],
   "source": [
    "linkLocation = tree.cssselect('.indexItem')[0].attrib['href']\n",
    "linkLocation"
   ]
  },
  {
   "cell_type": "markdown",
   "metadata": {
    "hidden": true
   },
   "source": [
    "Finally, this linklocation is added to the webpage link so we can get the total link of each team "
   ]
  },
  {
   "cell_type": "code",
   "execution_count": 12,
   "metadata": {
    "hidden": true
   },
   "outputs": [
    {
     "data": {
      "text/plain": [
       "'http://www.premierleague.com//clubs/1/Arsenal/squad'"
      ]
     },
     "execution_count": 12,
     "metadata": {},
     "output_type": "execute_result"
    }
   ],
   "source": [
    "temp=\"http://www.premierleague.com/\" + linkLocation\n",
    "temp=temp.replace (\"overview\", \"squad\")\n",
    "temp"
   ]
  },
  {
   "cell_type": "markdown",
   "metadata": {
    "hidden": true
   },
   "source": [
    "The same approach is used to scrape players links from each team page, the difference is that the class of the playes is **'.playerOverviewCard'**"
   ]
  },
  {
   "cell_type": "code",
   "execution_count": 13,
   "metadata": {
    "hidden": true
   },
   "outputs": [
    {
     "name": "stdout",
     "output_type": "stream",
     "text": [
      "/players/4985/Bernd-Leno/overview\n"
     ]
    },
    {
     "data": {
      "text/plain": [
       "'http://www.premierleague.com//players/4985/Bernd-Leno/overview'"
      ]
     },
     "execution_count": 13,
     "metadata": {},
     "output_type": "execute_result"
    }
   ],
   "source": [
    "squadPage = requests.get(temp)\n",
    "squadTree = html.fromstring(squadPage.content)\n",
    "    \n",
    "#Extracting players' links, they are under class 'playerOverviewCard'\n",
    "playerLocation = squadTree.cssselect('.playerOverviewCard')[0].attrib['href']\n",
    "print(playerLocation)\n",
    "temp2=\"http://www.premierleague.com/\" + playerLocation\n",
    "temp2"
   ]
  },
  {
   "cell_type": "markdown",
   "metadata": {
    "hidden": true
   },
   "source": [
    "Since we have the links of each player in the club we also use the same approach to get infomation on this player \n",
    "Class of Name:'div.name'\n",
    "class of position: '.playerOverviewAside .info'\n"
   ]
  },
  {
   "cell_type": "code",
   "execution_count": 14,
   "metadata": {
    "hidden": true
   },
   "outputs": [
    {
     "name": "stdout",
     "output_type": "stream",
     "text": [
      "Bernd Leno\n",
      "Goalkeeper\n"
     ]
    }
   ],
   "source": [
    "playerPage1 = requests.get(temp2)\n",
    "playerTree1 = html.fromstring(playerPage1.content)\n",
    "tempName = str(playerTree1.cssselect('div.name')[0].text_content())\n",
    "print(tempName)\n",
    "tempposition = str(playerTree1.cssselect('.playerOverviewAside .info')[1].text_content())\n",
    "print(tempposition)\n"
   ]
  },
  {
   "cell_type": "markdown",
   "metadata": {
    "heading_collapsed": true
   },
   "source": [
    "## **Teams' pages scraping**\n",
    "\n",
    "In this section, we are scraping the pages for each team in Premier League. To do so , we will first access the page containing all clubs. Then , we will loop through all teams and save their links in a list so we can use them latter. In the clubs page, each team is represented by a link that takes you to the team page containing its stats and overview"
   ]
  },
  {
   "cell_type": "code",
   "execution_count": 15,
   "metadata": {
    "hidden": true
   },
   "outputs": [],
   "source": [
    "#Take site and structure html\n",
    "page = requests.get('https://www.premierleague.com/clubs')\n",
    "tree = html.fromstring(page.content)"
   ]
  },
  {
   "cell_type": "code",
   "execution_count": 16,
   "metadata": {
    "hidden": true
   },
   "outputs": [],
   "source": [
    "# extract link locations related to the teams contained in the page\n",
    "linkLocation = tree.cssselect('.indexItem')"
   ]
  },
  {
   "cell_type": "code",
   "execution_count": 17,
   "metadata": {
    "hidden": true
   },
   "outputs": [],
   "source": [
    "#Create an empty list for us to send each team's link to\n",
    "teamLinks = []\n",
    "\n",
    "# There are 20 teams, we will loop through them \n",
    "for i in range(0,20):\n",
    "    \n",
    "    # A variable that contains the ith team's link location\n",
    "    temp = linkLocation[i].attrib['href']\n",
    "    \n",
    "    # To access the page of each team using the code i.e not manually, we will add the team's link to the website domain \n",
    "    temp = \"http://www.premierleague.com/\" + temp\n",
    "    \n",
    "    # When opening the team's page it will be the overview page, we will change it to squad since we are interested in players\n",
    "    temp = temp.replace(\"overview\", \"squad\")\n",
    "    \n",
    "    #Add the finished link to our teamLinks list\n",
    "    teamLinks.append(temp)"
   ]
  },
  {
   "cell_type": "markdown",
   "metadata": {
    "heading_collapsed": true
   },
   "source": [
    "## **Players' pages scraping**\n",
    "\n",
    "In this section, we will use the links we have got for each team and we will make a list of similar links for all playeras in that team. This will help us scrape the information of each player later  "
   ]
  },
  {
   "cell_type": "code",
   "execution_count": 19,
   "metadata": {
    "hidden": true,
    "scrolled": false
   },
   "outputs": [],
   "source": [
    "#Create empty lists for player links\n",
    "#First list is used for links in the overview page of each player while the second is used for the stats page\n",
    "#Each page contains information we will need for each player\n",
    "playerLink1 = []\n",
    "playerLink2 = []\n",
    "\n",
    "#looping through teams using their links\n",
    "for i in range(len(teamLinks)):\n",
    "    \n",
    "    #accessing each team page \n",
    "    squadPage = requests.get(teamLinks[i])\n",
    "     = html.fromstring(squadPage.content)\n",
    "    \n",
    "    #Extracting players' links, they are under class 'playerOverviewCard'\n",
    "    playerLocation = squadTree.cssselect('.playerOverviewCard')\n",
    "\n",
    "    #loop through players links in order to add them to the website domain. This eliminates the need for accessing each players page manually\n",
    "    for i in range(len(playerLocation)):\n",
    "        \n",
    "        # add the link to the website domain \n",
    "        playerLink1.append(\"http://www.premierleague.com/\" + playerLocation[i].attrib['href'])\n",
    "        \n",
    "        \n"
   ]
  },
  {
   "cell_type": "code",
   "execution_count": null,
   "metadata": {
    "hidden": true
   },
   "outputs": [],
   "source": [
    "for i in range(len(playerLink1)):\n",
    "    temp=playerLink1[i].replace(\"overview\", \"stats\")\n",
    "    playerLink2.append(playerLink1[i].replace(\"overview\", \"stats\"))"
   ]
  },
  {
   "cell_type": "code",
   "execution_count": null,
   "metadata": {
    "hidden": true
   },
   "outputs": [],
   "source": [
    "#Create lists for each variable\n",
    "Name = []\n",
    "Team = []\n",
    "Age = []\n",
    "Apps = []\n",
    "HeightCM = []\n",
    "WeightKG = []\n",
    "Goals= []\n",
    "Assists=[]\n",
    "Passes=[]\n",
    "Wins=[]\n",
    "Losses=[]\n",
    "Yellowcards=[]\n",
    "Redcards=[]\n",
    "Fouls=[]\n",
    "Position=[]"
   ]
  },
  {
   "cell_type": "code",
   "execution_count": null,
   "metadata": {
    "hidden": true
   },
   "outputs": [],
   "source": [
    "for i in range(len(playerLink1)):\n",
    "\n",
    "    #...download and process the two pages collected earlier...\n",
    "    playerPage1 = requests.get(playerLink1[i])\n",
    "    playerTree1 = html.fromstring(playerPage1.content)\n",
    "    playerPage2 = requests.get(playerLink2[i])\n",
    "    playerTree2 = html.fromstring(playerPage2.content)\n",
    "\n",
    "    #...find the relevant datapoint for each player, starting with name...\n",
    "    tempName = str(playerTree1.cssselect('div.name')[0].text_content())\n",
    "    #print(tempName)\n",
    "    \n",
    "    #...and team, but if there isn't a team, return \"BLANK\"...\n",
    "    try:\n",
    "        tempTeam = str(playerTree1.cssselect('.table:nth-child(1) .long')[0].text_content())\n",
    "    except IndexError:\n",
    "        tempTeam = str(\"BLANK\")\n",
    "    #print(tempTeam)\n",
    "    \n",
    "    #...and age, but if this isn't there, leave a blank 'no number' number...\n",
    "    try:  \n",
    "        tempAge = playerTree1.cssselect('.pdcol2 li:nth-child(1) .info--light')[0].text_content()\n",
    "        res= tempAge[tempAge.find(\"(\")+1:tempAge.find(\")\")]\n",
    "        #res = re.findall(r\"\\(\\s*\\+?(-?\\d+)\\s*\\)\", tempAge)\n",
    "    except IndexError:\n",
    "        tempAge = float('NaN')\n",
    "    #print(res) \n",
    "\n",
    "    #...and appearances. This is a bit of a mess on the page, so tidy it first...\n",
    "    try:\n",
    "        tempApps = playerTree2.cssselect('.statappearances')[0].text_content()\n",
    "        tempApps = int(re.search(r'\\d+', tempApps).group())\n",
    "    except IndexError:\n",
    "        tempApps = float('NaN')\n",
    "        \n",
    "\n",
    "    #...and height. Needs tidying again...\n",
    "    try:\n",
    "        tempHeight = playerTree1.cssselect('.pdcol3 li:nth-child(1) .info')[0].text_content()\n",
    "        tempHeight = int(re.search(r'\\d+', tempHeight).group())\n",
    "    except IndexError:\n",
    "        tempHeight = float('NaN')\n",
    "\n",
    "    #...and weight. Same with tidying and returning blanks if it isn't there\n",
    "    try:\n",
    "        tempWeight = playerTree1.cssselect('.pdcol3 li+ li .info')[0].text_content()\n",
    "        tempWeight = int(re.search(r'\\d+', tempWeight).group())\n",
    "    except IndexError:\n",
    "        tempWeight = float('NaN')\n",
    "    \n",
    "    try:\n",
    "        tempgoals =  playerTree2.cssselect('.statgoals')[0].text_content()\n",
    "        tempgoals = int(re.search(r'\\d+', tempgoals).group())\n",
    "    except IndexError:\n",
    "        tempgoals = float('NaN')\n",
    "    #print(tempgoals)\n",
    "    \n",
    "    try:\n",
    "        tempassists =  playerTree2.cssselect('.statgoal_assist')[0].text_content()\n",
    "        tempassists = int(re.search(r'\\d+', tempassists).group())\n",
    "    except IndexError:\n",
    "        tempassists = float('NaN')\n",
    "    #print(tempassists)\n",
    "    \n",
    "    try:\n",
    "        tempapasses =  playerTree2.cssselect('.stattotal_pass')[0].text_content()\n",
    "        res2=tempapasses.replace(\",\", \"\")\n",
    "        tempapasses = int(re.search(r'\\d+', res2).group())\n",
    "        \n",
    "    except IndexError:\n",
    "        tempapasses = float('NaN')\n",
    "    #print(tempapasses)\n",
    "    \n",
    "    \n",
    "    try:\n",
    "        tempwins = playerTree2.cssselect('.statwins')[0].text_content()\n",
    "        tempwins = int(re.search(r'\\d+', tempwins).group())\n",
    "    except IndexError:\n",
    "        tempwins = float('NaN')\n",
    "    \n",
    "    try:\n",
    "        templosses = playerTree2.cssselect('.statlosses')[0].text_content()\n",
    "        templosses = int(re.search(r'\\d+', templosses).group())\n",
    "    except IndexError:\n",
    "        templosses = float('NaN')\n",
    "        \n",
    "    try:\n",
    "        tempYellowcards = playerTree2.cssselect('.statyellow_card')[0].text_content()\n",
    "        tempYellowcards = int(re.search(r'\\d+', tempYellowcards).group())\n",
    "    except IndexError:\n",
    "        tempYellowcards = float('NaN')\n",
    "        \n",
    "    try:\n",
    "        tempRedcards = playerTree2.cssselect('.statred_card')[0].text_content()\n",
    "        tempRedcards = int(re.search(r'\\d+', tempRedcards).group())\n",
    "    except IndexError:\n",
    "        tempRedcards = float('NaN')\n",
    "        \n",
    "    try:\n",
    "        tempFouls = playerTree2.cssselect('.statfouls')[0].text_content()\n",
    "        tempFouls = int(re.search(r'\\d+', tempFouls).group())\n",
    "    except IndexError:\n",
    "        tempFouls = float('NaN')     \n",
    "        \n",
    "    try:\n",
    "        tempposition = str(playerTree1.cssselect('.playerOverviewAside .info')[1].text_content())\n",
    "    except IndexError:\n",
    "        tempposition = str(\"BLANK\")\n",
    "    #print(tempposition)\n",
    "    \n",
    "    #Now that we have a player's full details - add them all to the lists\n",
    "    \n",
    "    Name.append(tempName)\n",
    "    Team.append(tempTeam)\n",
    "    Age.append(res)\n",
    "    Apps.append(tempApps)\n",
    "    HeightCM.append(tempHeight)\n",
    "    WeightKG.append(tempWeight)\n",
    "    Goals.append(tempgoals)\n",
    "    Assists.append(tempassists)\n",
    "    Passes.append(tempapasses)\n",
    "    Wins.append(tempwins)\n",
    "    Losses.append(templosses)\n",
    "    Yellowcards.append(tempYellowcards)\n",
    "    Redcards.append(tempRedcards)\n",
    "    Fouls.append(tempFouls)\n",
    "    Position.append(tempposition)"
   ]
  },
  {
   "cell_type": "code",
   "execution_count": null,
   "metadata": {
    "hidden": true
   },
   "outputs": [],
   "source": [
    "#Create data frame from lists\n",
    "df = pd.DataFrame(\n",
    "    {'Name':Name,\n",
    "     'Team':Team,\n",
    "     'Position':Position,\n",
    "     'Age':Age,\n",
    "     'Apps':Apps,\n",
    "     'HeightCM':HeightCM,\n",
    "     'WeightKG':WeightKG,\n",
    "    'Goals':Goals,\n",
    "    'Assists':Assists,\n",
    "    'Passes':Passes,\n",
    "     'Wins':Wins,\n",
    "      'Losses':Losses,\n",
    "   'Yellowcards':Yellowcards,\n",
    "    'Redcards':Redcards,\n",
    "    'Fouls':Fouls})\n",
    "\n",
    "#Show me the top 20 rows:\n",
    "\n",
    "df.head(20)"
   ]
  },
  {
   "cell_type": "code",
   "execution_count": null,
   "metadata": {
    "hidden": true
   },
   "outputs": [],
   "source": [
    "df.shape"
   ]
  },
  {
   "cell_type": "code",
   "execution_count": null,
   "metadata": {
    "hidden": true
   },
   "outputs": [],
   "source": [
    "df.to_csv('Teams_data.csv' ,index=False )"
   ]
  },
  {
   "cell_type": "markdown",
   "metadata": {
    "heading_collapsed": true
   },
   "source": [
    "# Pre-processing"
   ]
  },
  {
   "cell_type": "code",
   "execution_count": null,
   "metadata": {
    "hidden": true
   },
   "outputs": [],
   "source": [
    "df = pd.read_csv('Teams_data.csv')"
   ]
  },
  {
   "cell_type": "code",
   "execution_count": null,
   "metadata": {
    "hidden": true
   },
   "outputs": [],
   "source": [
    "df.info()"
   ]
  },
  {
   "cell_type": "code",
   "execution_count": null,
   "metadata": {
    "hidden": true
   },
   "outputs": [],
   "source": [
    "#cheking for null values\n",
    "df.isnull().sum()"
   ]
  },
  {
   "cell_type": "code",
   "execution_count": null,
   "metadata": {
    "hidden": true
   },
   "outputs": [],
   "source": [
    "df=df[df['Apps']!=0]\n",
    "df.reset_index(drop=True, inplace=True  )"
   ]
  },
  {
   "cell_type": "code",
   "execution_count": null,
   "metadata": {
    "hidden": true,
    "scrolled": true
   },
   "outputs": [],
   "source": [
    "df.isnull().sum()"
   ]
  },
  {
   "cell_type": "markdown",
   "metadata": {
    "hidden": true
   },
   "source": [
    "We have a missing data in HeightCM and WeightKG columns. So, we will fill them with the average height and weight for the players in the same age."
   ]
  },
  {
   "cell_type": "code",
   "execution_count": null,
   "metadata": {
    "hidden": true
   },
   "outputs": [],
   "source": [
    "# group the players by age\n",
    "group = df[['HeightCM' ,'WeightKG' ,'Age']].groupby('Age').mean()\n",
    "# fill the null values with the mean \n",
    "for i , r in df[df['HeightCM'].isnull()].iterrows():\n",
    "    age = df.iloc[i,3]\n",
    "    df.iloc[i,5] = group.loc[age , 'HeightCM']\n",
    "    \n",
    "for i , r in df[df['WeightKG'].isnull()].iterrows():\n",
    "    age = df.iloc[i,3]\n",
    "    df.iloc[i,6] = group.loc[age , 'WeightKG']\n",
    "df.isnull().sum()"
   ]
  },
  {
   "cell_type": "code",
   "execution_count": null,
   "metadata": {
    "hidden": true
   },
   "outputs": [],
   "source": [
    "#creating new columns\n",
    "\n",
    "df['Wins_ratio'] = df['Wins'] / df['Apps']\n",
    "\n",
    "df['Goals_ratio'] = df['Goals'] / df['Apps']\n",
    "    \n",
    "\n",
    "df['Yellowcardsd_ratio'] = df['Yellowcards'] / df['Apps']\n",
    "\n",
    "    \n",
    "df['Fouls_ratio'] = df['Fouls'] / df['Apps']\n",
    "\n",
    "    \n",
    "\n",
    "df['Passes_ratio'] = df['Passes'] / df['Apps']\n",
    "  "
   ]
  },
  {
   "cell_type": "code",
   "execution_count": null,
   "metadata": {
    "hidden": true
   },
   "outputs": [],
   "source": [
    "df.head()"
   ]
  },
  {
   "cell_type": "code",
   "execution_count": null,
   "metadata": {
    "hidden": true
   },
   "outputs": [],
   "source": [
    "# for further work we will need some columns to be descritisized, in this section we add descritisized columns to the data\n",
    "# descritizing of some columns\n",
    "df['Ycards_ratio_dicretized']=pd.qcut(df['Yellowcardsd_ratio'],3, labels=['Low','Medium','High'])\n",
    "df['Fouls_ratio_dicretized']=pd.qcut(df['Fouls_ratio'],3, labels=['Low','Medium','High'])"
   ]
  },
  {
   "cell_type": "code",
   "execution_count": null,
   "metadata": {
    "hidden": true
   },
   "outputs": [],
   "source": [
    "df.head()"
   ]
  },
  {
   "cell_type": "code",
   "execution_count": null,
   "metadata": {
    "hidden": true
   },
   "outputs": [],
   "source": [
    "df.describe() # statical sammary"
   ]
  },
  {
   "cell_type": "code",
   "execution_count": null,
   "metadata": {
    "hidden": true,
    "scrolled": true
   },
   "outputs": [],
   "source": [
    "df.info()"
   ]
  },
  {
   "cell_type": "markdown",
   "metadata": {},
   "source": [
    "Now let's see how many teams we have and how many players they contain"
   ]
  },
  {
   "cell_type": "code",
   "execution_count": null,
   "metadata": {
    "hidden": true
   },
   "outputs": [],
   "source": [
    "df['Team'].value_counts()"
   ]
  },
  {
   "cell_type": "markdown",
   "metadata": {
    "hidden": true
   },
   "source": [
    "We now will clean the teams names"
   ]
  },
  {
   "cell_type": "code",
   "execution_count": null,
   "metadata": {
    "hidden": true
   },
   "outputs": [],
   "source": [
    "# remove '(Loan)' and ' U21' from teams name\n",
    "# substitute & to and\n",
    "df['Team'] = df['Team'].apply(lambda x : re.sub(\"\\(Loan\\)|U21\",' ' ,x).strip())\n",
    "df['Team'] = df['Team'].apply(lambda x : re.sub(\"&\",'and' ,x))"
   ]
  },
  {
   "cell_type": "code",
   "execution_count": null,
   "metadata": {
    "hidden": true
   },
   "outputs": [],
   "source": [
    "df['Team'].value_counts()"
   ]
  },
  {
   "cell_type": "markdown",
   "metadata": {},
   "source": [
    "There is still one team with one player so we will drop it "
   ]
  },
  {
   "cell_type": "code",
   "execution_count": null,
   "metadata": {},
   "outputs": [],
   "source": [
    "df = df.drop(index = 395).reset_index()\n",
    "df['Team'].value_counts()"
   ]
  },
  {
   "cell_type": "code",
   "execution_count": null,
   "metadata": {
    "hidden": true
   },
   "outputs": [],
   "source": [
    "df.to_csv('processing_Teams_data.csv' ,index=False )"
   ]
  },
  {
   "cell_type": "markdown",
   "metadata": {
    "heading_collapsed": true
   },
   "source": [
    "# Analysis"
   ]
  },
  {
   "cell_type": "code",
   "execution_count": null,
   "metadata": {
    "hidden": true
   },
   "outputs": [],
   "source": [
    "import matplotlib.pyplot as plt\n",
    "import seaborn as sns\n",
    "import scipy.stats as stats\n",
    "%matplotlib inline"
   ]
  },
  {
   "cell_type": "code",
   "execution_count": null,
   "metadata": {
    "hidden": true
   },
   "outputs": [],
   "source": [
    "df = pd.read_csv('processing_Teams_data.csv')"
   ]
  },
  {
   "cell_type": "code",
   "execution_count": null,
   "metadata": {
    "hidden": true,
    "scrolled": false
   },
   "outputs": [],
   "source": [
    "df.head()"
   ]
  },
  {
   "cell_type": "markdown",
   "metadata": {
    "hidden": true
   },
   "source": [
    "check for normality useing Probability-plot"
   ]
  },
  {
   "cell_type": "code",
   "execution_count": null,
   "metadata": {
    "hidden": true,
    "scrolled": true
   },
   "outputs": [],
   "source": [
    "plt.subplot(3,3,1)\n",
    "#Fouls\n",
    "data = df['Fouls_ratio'].values\n",
    "stats.probplot(data , plot =plt)\n",
    "plt.title('Fouls_ratio')\n",
    "plt.xlabel(' ')\n",
    "plt.xticks([])\n",
    "\n",
    "plt.subplot(3,3,2)\n",
    "#Goals\n",
    "data = df['Goals_ratio'].values\n",
    "stats.probplot(data , plot =plt)\n",
    "plt.title('Goals_ratio')\n",
    "plt.xlabel(' ')\n",
    "plt.xticks([])\n",
    "\n",
    "plt.subplot(3,3,3)\n",
    "#Passes\n",
    "data = df['Passes_ratio'].values\n",
    "stats.probplot(data , plot =plt)\n",
    "plt.title('Passes_ratio')\n",
    "plt.xlabel(' ')\n",
    "plt.xticks([])\n",
    "\n",
    "plt.subplot(3,3,4)\n",
    "#Wins\n",
    "data = df['Wins_ratio'].values\n",
    "stats.probplot(data , plot =plt)\n",
    "plt.title('Wins_ratio')\n",
    "plt.xlabel(' ')\n",
    "plt.xticks([])\n",
    "\n",
    "\n",
    "plt.subplot(3,3,5)\n",
    "#Yellowcards\n",
    "data = df['Yellowcardsd_ratio'].values\n",
    "stats.probplot(data , plot =plt)\n",
    "plt.title('Yellowcardsd_ratio')\n",
    "plt.xlabel(' ')\n",
    "\n",
    "plt.subplot(3,3,6)\n",
    "#HeightCM\n",
    "data = df['HeightCM'].values\n",
    "stats.probplot(data , plot =plt)\n",
    "plt.title('HeightCM')\n",
    "plt.xlabel(' ')\n",
    "\n",
    "plt.subplot(3,3,7)\n",
    "#WeightKG\n",
    "data = df['WeightKG'].values\n",
    "stats.probplot(data , plot =plt)\n",
    "plt.title('WeightKG')\n",
    "plt.xlabel(' ')\n",
    "\n",
    "plt.rcParams[\"figure.figsize\"] = (15,10)\n",
    "plt.show()"
   ]
  },
  {
   "cell_type": "markdown",
   "metadata": {
    "hidden": true
   },
   "source": [
    "### check for normality useing D’Agostino–Pearson omnibus test"
   ]
  },
  {
   "cell_type": "code",
   "execution_count": null,
   "metadata": {
    "hidden": true
   },
   "outputs": [],
   "source": [
    "print(stats.normaltest(df['WeightKG'].values))\n",
    "print(stats.normaltest(df['HeightCM'].values))\n",
    "print(stats.normaltest(df['Fouls_ratio'].values))\n",
    "print(stats.normaltest(df['Goals_ratio'].values))\n",
    "print(stats.normaltest(df['Passes_ratio'].values))\n",
    "print(stats.normaltest(df['Wins_ratio'].values))\n",
    "print(stats.normaltest(df['Yellowcardsd_ratio'].values))"
   ]
  },
  {
   "cell_type": "markdown",
   "metadata": {
    "hidden": true
   },
   "source": [
    "From the first figur we can notice that Passes_ratio, WeightKG and HeightCM are somehow fitting the line but after the D’Agostino–Pearson omnibus test it turns out that both of HeightCM and Fouls_ratio are the data with normal distribution\n",
    "\n",
    "---------------------------------------"
   ]
  },
  {
   "cell_type": "code",
   "execution_count": null,
   "metadata": {},
   "outputs": [],
   "source": [
    "plt.subplot(1,2,1)\n",
    "sns.distplot(df['HeightCM'], hist=True, kde=True)\n",
    "\n",
    "plt.subplot(1,2,2)\n",
    "sns.distplot(df['Fouls_ratio'], hist=True, kde=True)\n",
    "plt.show()"
   ]
  },
  {
   "cell_type": "markdown",
   "metadata": {},
   "source": [
    "___________________________________"
   ]
  },
  {
   "cell_type": "code",
   "execution_count": null,
   "metadata": {},
   "outputs": [],
   "source": [
    "#plot the distribution of Height for each Positon\n",
    "sns.catplot(x=\"Position\", y=\"HeightCM\", kind=\"box\", data=df)\n",
    "plt.show()"
   ]
  },
  {
   "cell_type": "markdown",
   "metadata": {},
   "source": [
    "We can see that the mean of heights for defender, midfielder and forward are close to each other. In other hand for players in goalkeeper position the average is higher than hights for other positions."
   ]
  },
  {
   "cell_type": "markdown",
   "metadata": {},
   "source": [
    "______________________"
   ]
  },
  {
   "cell_type": "code",
   "execution_count": null,
   "metadata": {},
   "outputs": [],
   "source": [
    "sns.relplot(x=\"Apps\", y=\"Fouls\",hue='Position' ,data=df)\n",
    "plt.show()"
   ]
  },
  {
   "cell_type": "markdown",
   "metadata": {},
   "source": [
    "There seems to be a positive correlatoin between the number of apps and the number of fouls commited by players in each position. The only exception for this relation is for the apps of goal keepers and their commited fouls. It is obvious that the number of fouls committed by goal keeper is low regardless of the number of games they have played. This could be attributed to the fact that goal keepers usually have less contact with other players."
   ]
  },
  {
   "cell_type": "markdown",
   "metadata": {},
   "source": [
    "________________"
   ]
  },
  {
   "cell_type": "code",
   "execution_count": null,
   "metadata": {},
   "outputs": [],
   "source": [
    "#plt.subplot(1,2,1)\n",
    "sns.catplot(x=\"Fouls_ratio_dicretized\", y=\"Passes_ratio\", kind=\"box\", data=df)\n",
    "#plt.subplot(1,2,2)\n",
    "sns.catplot(x=\"Ycards_ratio_dicretized\", y=\"Passes_ratio\", kind=\"box\", data=df)\n",
    "plt.show()\n"
   ]
  },
  {
   "cell_type": "markdown",
   "metadata": {},
   "source": [
    "____________"
   ]
  },
  {
   "cell_type": "markdown",
   "metadata": {},
   "source": [
    "Now we will create new table grouped by teams contain the total of red cards and the total of yellow cards"
   ]
  },
  {
   "cell_type": "code",
   "execution_count": null,
   "metadata": {},
   "outputs": [],
   "source": [
    "Team = df[[ 'Redcards','Yellowcards' ,'Team']].groupby('Team').agg(sum)\n",
    "Team.head()"
   ]
  },
  {
   "cell_type": "code",
   "execution_count": null,
   "metadata": {},
   "outputs": [],
   "source": [
    "x = np.arange(len(Team))\n",
    "width = 0.3\n",
    "plt.barh(x , Team['Yellowcards'],width, color = '#f7ea00' )\n",
    "plt.barh(x-0.3 ,Team['Redcards'],width , color='#ce1212')\n",
    "\n",
    "plt.yticks(x, Team.index)\n",
    "plt.legend([\"Yellow cards\", \"Red cards\"])\n",
    "plt.xlabel('Total numbers',fontsize=16)\n",
    "plt.ylabel('Teams',fontsize=16)\n",
    "plt.show()"
   ]
  },
  {
   "cell_type": "markdown",
   "metadata": {},
   "source": [
    "# Type of study"
   ]
  },
  {
   "cell_type": "markdown",
   "metadata": {},
   "source": [
    "Our case study is :\n",
    "- **Observational study**; because we collected information, but did not interact with the study population (players) and without trying to affect them.\n",
    "\n",
    "- **Retrospective study**; because we took our data from previous matches since 2015 up to this season of Premier league.\n",
    "\n",
    "- **longitudinal investigations**; we have collected information(Apps, Goals, Fouls, wins,passes,..etc) over a period of time for 6 seasons(2015-2021), multiple times from each player.\n",
    "\n",
    "- **Case-Control**; in our study we evaluated the teams based on certain criteria. The top four in the Premier League qualify for the Champions League group stages - plus the winners of the Champions League and Europa League, there can be a maximum of five English teams in the Champions League.\n"
   ]
  },
  {
   "cell_type": "markdown",
   "metadata": {},
   "source": [
    "# Hypothesis Testing"
   ]
  },
  {
   "cell_type": "markdown",
   "metadata": {},
   "source": [
    "In Premier league when a club wants to loan a new goalkeeper they have to put into consideration different things, depending on goalkeepers posture their heights have to be higher from others in the same team.\n",
    "\n",
    "For each 20 team in Premier League there are 4 positions : **goalkeeper, defender, midfielder and forward**.The average amount of players' height is different from position to another as shown in the figure below. The mean for goalkeepers is 190.666667. Is this difference significant? Test at the 5% level of significance.\n",
    " "
   ]
  },
  {
   "cell_type": "code",
   "execution_count": null,
   "metadata": {},
   "outputs": [],
   "source": [
    "#plot the distribution of Height for each Position\n",
    "sns.catplot(x=\"Position\", y=\"HeightCM\", kind=\"box\", data=df)\n",
    "plt.show()"
   ]
  },
  {
   "cell_type": "markdown",
   "metadata": {},
   "source": [
    "$H_0: \\mu_1 = \\mu_2  $ \n",
    "\n",
    "$H_1: \\mu_1 \\neq \\mu_2 $"
   ]
  },
  {
   "cell_type": "code",
   "execution_count": null,
   "metadata": {},
   "outputs": [],
   "source": [
    "df.describe()"
   ]
  },
  {
   "cell_type": "code",
   "execution_count": null,
   "metadata": {},
   "outputs": [],
   "source": [
    "df.loc[df.Position == \"Goalkeeper\"].describe()"
   ]
  },
  {
   "cell_type": "code",
   "execution_count": null,
   "metadata": {},
   "outputs": [],
   "source": [
    "data1 = df.loc[df.Position == \"Goalkeeper\"][\"HeightCM\"].values\n",
    "data2 = df.loc[df.Position != \"Goalkeeper\"][\"HeightCM\"].values\n",
    "\n",
    "ttest, pVal = stats.ttest_ind(data1,data2)\n",
    "\n",
    "if pVal < 0.05:\n",
    "    print(\"Mean of Goalkeepers' height is significantly different from the mean of other positions' height\")\n",
    "    print(' p value ={0} '.format(pVal))"
   ]
  },
  {
   "cell_type": "markdown",
   "metadata": {},
   "source": [
    "#### So the p-value was less than alpha which means we have to reject the null hypothesis.."
   ]
  }
 ],
 "metadata": {
  "kernelspec": {
   "display_name": "Python 3",
   "language": "python",
   "name": "python3"
  },
  "language_info": {
   "codemirror_mode": {
    "name": "ipython",
    "version": 3
   },
   "file_extension": ".py",
   "mimetype": "text/x-python",
   "name": "python",
   "nbconvert_exporter": "python",
   "pygments_lexer": "ipython3",
   "version": "3.8.5"
  }
 },
 "nbformat": 4,
 "nbformat_minor": 4
}
