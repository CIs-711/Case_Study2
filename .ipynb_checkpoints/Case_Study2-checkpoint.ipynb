{
 "cells": [
  {
   "cell_type": "markdown",
   "metadata": {},
   "source": [
    "Data Science – CIS711\n",
    "\n",
    "Case study 2\n",
    "\n",
    "- Alaa Mohammad Hussein Abu Qtaish 143103\n",
    "\n",
    "- ANOUD HOSSAM KHALED KHAZAA'LAH 150122\n",
    "\n",
    "- Anbara Zaid Saeed Al-Jamal 150107\n",
    "\n",
    "- Mohammed Ahmed Nasser Atros 147813"
   ]
  },
  {
   "cell_type": "markdown",
   "metadata": {},
   "source": [
    "# Extract data"
   ]
  },
  {
   "cell_type": "code",
   "execution_count": 7,
   "metadata": {},
   "outputs": [],
   "source": [
    "#pip install cssselect"
   ]
  },
  {
   "cell_type": "code",
   "execution_count": 8,
   "metadata": {},
   "outputs": [],
   "source": [
    "import numpy as np \n",
    "import pandas as pd\n",
    "import requests \n",
    "from bs4 import BeautifulSoup\n",
    "import csv\n",
    "from lxml import html\n",
    "import re"
   ]
  },
  {
   "cell_type": "markdown",
   "metadata": {
    "heading_collapsed": true
   },
   "source": [
    "## **Explanation of scraping tool**\n",
    "\n",
    "In this section we will demonstrate our scraping tool and strategy by scraping data for one player. The process of scraping in the next section relies on using for loops to automate this process for many players.\n",
    "\n",
    "The steps and tools we used for scraping are as follow:\n"
   ]
  },
  {
   "cell_type": "markdown",
   "metadata": {
    "hidden": true
   },
   "source": [
    "First, We use the **request** library and the **get** function to get a response object (to grap the code of a page) and assign it to a variable 'page' and we will start with the clubs page:"
   ]
  },
  {
   "cell_type": "code",
   "execution_count": 9,
   "metadata": {
    "hidden": true
   },
   "outputs": [],
   "source": [
    "page = requests.get('https://www.premierleague.com/clubs')"
   ]
  },
  {
   "cell_type": "markdown",
   "metadata": {
    "hidden": true
   },
   "source": [
    "Second, we get the content of the response object using function **.content provided by Request library ('page.content')**\n",
    "Then a document of this content is obtained using the **'fromstring'** function provided by **'html'** package of the **lxml** model\n",
    "The result is stored in a variable 'tree'."
   ]
  },
  {
   "cell_type": "code",
   "execution_count": 10,
   "metadata": {
    "hidden": true
   },
   "outputs": [],
   "source": [
    "tree = html.fromstring(page.content)"
   ]
  },
  {
   "cell_type": "markdown",
   "metadata": {
    "hidden": true
   },
   "source": [
    "Third, we used the **cssselect** method provided by **HTML** to locate and select elements and their childern from the 'tree' element we have gotten in the previous step.\n",
    "for example if the elemnt we want to get is the link of a specific team from the clubs page, we use the cssselect on the class of teams which is on our case **'indexItem'**\n",
    "\n",
    "Note: the class for each element can be obtained from the page by clikcing the right cursor of the mouse and choosing **inspect**, then we hover the mouse over the element to know its class    "
   ]
  },
  {
   "cell_type": "code",
   "execution_count": 11,
   "metadata": {
    "hidden": true
   },
   "outputs": [
    {
     "data": {
      "text/plain": [
       "'/clubs/1/Arsenal/overview'"
      ]
     },
     "execution_count": 11,
     "metadata": {},
     "output_type": "execute_result"
    }
   ],
   "source": [
    "linkLocation = tree.cssselect('.indexItem')[0].attrib['href']\n",
    "linkLocation"
   ]
  },
  {
   "cell_type": "markdown",
   "metadata": {
    "hidden": true
   },
   "source": [
    "Finally, this linklocation is added to the webpage link so we can get the total link of each team "
   ]
  },
  {
   "cell_type": "code",
   "execution_count": 12,
   "metadata": {
    "hidden": true
   },
   "outputs": [
    {
     "data": {
      "text/plain": [
       "'http://www.premierleague.com//clubs/1/Arsenal/squad'"
      ]
     },
     "execution_count": 12,
     "metadata": {},
     "output_type": "execute_result"
    }
   ],
   "source": [
    "temp=\"http://www.premierleague.com/\" + linkLocation\n",
    "temp=temp.replace (\"overview\", \"squad\")\n",
    "temp"
   ]
  },
  {
   "cell_type": "markdown",
   "metadata": {
    "hidden": true
   },
   "source": [
    "The same approach is used to scrape players links from each team page, the difference is that the class of the playes is **'.playerOverviewCard'**"
   ]
  },
  {
   "cell_type": "code",
   "execution_count": 13,
   "metadata": {
    "hidden": true
   },
   "outputs": [
    {
     "name": "stdout",
     "output_type": "stream",
     "text": [
      "/players/4985/Bernd-Leno/overview\n"
     ]
    },
    {
     "data": {
      "text/plain": [
       "'http://www.premierleague.com//players/4985/Bernd-Leno/overview'"
      ]
     },
     "execution_count": 13,
     "metadata": {},
     "output_type": "execute_result"
    }
   ],
   "source": [
    "squadPage = requests.get(temp)\n",
    "squadTree = html.fromstring(squadPage.content)\n",
    "    \n",
    "#Extracting players' links, they are under class 'playerOverviewCard'\n",
    "playerLocation = squadTree.cssselect('.playerOverviewCard')[0].attrib['href']\n",
    "print(playerLocation)\n",
    "temp2=\"http://www.premierleague.com/\" + playerLocation\n",
    "temp2"
   ]
  },
  {
   "cell_type": "markdown",
   "metadata": {
    "hidden": true
   },
   "source": [
    "Since we have the links of each player in the club we also use the same approach to get infomation on this player \n",
    "Class of Name:'div.name'\n",
    "class of position: '.playerOverviewAside .info'\n"
   ]
  },
  {
   "cell_type": "code",
   "execution_count": 14,
   "metadata": {
    "hidden": true
   },
   "outputs": [
    {
     "name": "stdout",
     "output_type": "stream",
     "text": [
      "Bernd Leno\n",
      "Goalkeeper\n"
     ]
    }
   ],
   "source": [
    "playerPage1 = requests.get(temp2)\n",
    "playerTree1 = html.fromstring(playerPage1.content)\n",
    "tempName = str(playerTree1.cssselect('div.name')[0].text_content())\n",
    "print(tempName)\n",
    "tempposition = str(playerTree1.cssselect('.playerOverviewAside .info')[1].text_content())\n",
    "print(tempposition)\n"
   ]
  },
  {
   "cell_type": "markdown",
   "metadata": {
    "heading_collapsed": true
   },
   "source": [
    "## **Teams' pages scraping**\n",
    "\n",
    "In this section, we are scraping the pages for each team in Premier League. To do so , we will first access the page containing all clubs. Then , we will loop through all teams and save their links in a list so we can use them latter. In the clubs page, each team is represented by a link that takes you to the team page containing its stats and overview"
   ]
  },
  {
   "cell_type": "code",
   "execution_count": 15,
   "metadata": {
    "hidden": true
   },
   "outputs": [],
   "source": [
    "#Take site and structure html\n",
    "page = requests.get('https://www.premierleague.com/clubs')\n",
    "tree = html.fromstring(page.content)"
   ]
  },
  {
   "cell_type": "code",
   "execution_count": 16,
   "metadata": {
    "hidden": true
   },
   "outputs": [],
   "source": [
    "# extract link locations related to the teams contained in the page\n",
    "linkLocation = tree.cssselect('.indexItem')"
   ]
  },
  {
   "cell_type": "code",
   "execution_count": 17,
   "metadata": {
    "hidden": true
   },
   "outputs": [],
   "source": [
    "#Create an empty list for us to send each team's link to\n",
    "teamLinks = []\n",
    "\n",
    "# There are 20 teams, we will loop through them \n",
    "for i in range(0,20):\n",
    "    \n",
    "    # A variable that contains the ith team's link location\n",
    "    temp = linkLocation[i].attrib['href']\n",
    "    \n",
    "    # To access the page of each team using the code i.e not manually, we will add the team's link to the website domain \n",
    "    temp = \"http://www.premierleague.com/\" + temp\n",
    "    \n",
    "    # When opening the team's page it will be the overview page, we will change it to squad since we are interested in players\n",
    "    temp = temp.replace(\"overview\", \"squad\")\n",
    "    \n",
    "    #Add the finished link to our teamLinks list\n",
    "    teamLinks.append(temp)"
   ]
  },
  {
   "cell_type": "markdown",
   "metadata": {
    "heading_collapsed": true
   },
   "source": [
    "## **Players' pages scraping**\n",
    "\n",
    "In this section, we will use the links we have got for each team and we will make a list of similar links for all playeras in that team. This will help us scrape the information of each player later  "
   ]
  },
  {
   "cell_type": "code",
   "execution_count": 19,
   "metadata": {
    "hidden": true,
    "scrolled": false
   },
   "outputs": [],
   "source": [
    "#Create empty lists for player links\n",
    "#First list is used for links in the overview page of each player while the second is used for the stats page\n",
    "#Each page contains information we will need for each player\n",
    "playerLink1 = []\n",
    "playerLink2 = []\n",
    "\n",
    "#looping through teams using their links\n",
    "for i in range(len(teamLinks)):\n",
    "    \n",
    "    #accessing each team page \n",
    "    squadPage = requests.get(teamLinks[i])\n",
    "     = html.fromstring(squadPage.content)\n",
    "    \n",
    "    #Extracting players' links, they are under class 'playerOverviewCard'\n",
    "    playerLocation = squadTree.cssselect('.playerOverviewCard')\n",
    "\n",
    "    #loop through players links in order to add them to the website domain. This eliminates the need for accessing each players page manually\n",
    "    for i in range(len(playerLocation)):\n",
    "        \n",
    "        # add the link to the website domain \n",
    "        playerLink1.append(\"http://www.premierleague.com/\" + playerLocation[i].attrib['href'])\n",
    "        \n",
    "        \n"
   ]
  },
  {
   "cell_type": "code",
   "execution_count": null,
   "metadata": {
    "hidden": true
   },
   "outputs": [],
   "source": [
    "for i in range(len(playerLink1)):\n",
    "    temp=playerLink1[i].replace(\"overview\", \"stats\")\n",
    "    playerLink2.append(playerLink1[i].replace(\"overview\", \"stats\"))"
   ]
  },
  {
   "cell_type": "code",
   "execution_count": null,
   "metadata": {
    "hidden": true
   },
   "outputs": [],
   "source": [
    "#Create lists for each variable\n",
    "Name = []\n",
    "Team = []\n",
    "Age = []\n",
    "Apps = []\n",
    "HeightCM = []\n",
    "WeightKG = []\n",
    "Goals= []\n",
    "Assists=[]\n",
    "Passes=[]\n",
    "Wins=[]\n",
    "Losses=[]\n",
    "Yellowcards=[]\n",
    "Redcards=[]\n",
    "Fouls=[]\n",
    "Position=[]"
   ]
  },
  {
   "cell_type": "code",
   "execution_count": null,
   "metadata": {
    "hidden": true
   },
   "outputs": [],
   "source": [
    "for i in range(len(playerLink1)):\n",
    "\n",
    "    #...download and process the two pages collected earlier...\n",
    "    playerPage1 = requests.get(playerLink1[i])\n",
    "    playerTree1 = html.fromstring(playerPage1.content)\n",
    "    playerPage2 = requests.get(playerLink2[i])\n",
    "    playerTree2 = html.fromstring(playerPage2.content)\n",
    "\n",
    "    #...find the relevant datapoint for each player, starting with name...\n",
    "    tempName = str(playerTree1.cssselect('div.name')[0].text_content())\n",
    "    #print(tempName)\n",
    "    \n",
    "    #...and team, but if there isn't a team, return \"BLANK\"...\n",
    "    try:\n",
    "        tempTeam = str(playerTree1.cssselect('.table:nth-child(1) .long')[0].text_content())\n",
    "    except IndexError:\n",
    "        tempTeam = str(\"BLANK\")\n",
    "    #print(tempTeam)\n",
    "    \n",
    "    #...and age, but if this isn't there, leave a blank 'no number' number...\n",
    "    try:  \n",
    "        tempAge = playerTree1.cssselect('.pdcol2 li:nth-child(1) .info--light')[0].text_content()\n",
    "        res= tempAge[tempAge.find(\"(\")+1:tempAge.find(\")\")]\n",
    "        #res = re.findall(r\"\\(\\s*\\+?(-?\\d+)\\s*\\)\", tempAge)\n",
    "    except IndexError:\n",
    "        tempAge = float('NaN')\n",
    "    #print(res) \n",
    "\n",
    "    #...and appearances. This is a bit of a mess on the page, so tidy it first...\n",
    "    try:\n",
    "        tempApps = playerTree2.cssselect('.statappearances')[0].text_content()\n",
    "        tempApps = int(re.search(r'\\d+', tempApps).group())\n",
    "    except IndexError:\n",
    "        tempApps = float('NaN')\n",
    "        \n",
    "\n",
    "    #...and height. Needs tidying again...\n",
    "    try:\n",
    "        tempHeight = playerTree1.cssselect('.pdcol3 li:nth-child(1) .info')[0].text_content()\n",
    "        tempHeight = int(re.search(r'\\d+', tempHeight).group())\n",
    "    except IndexError:\n",
    "        tempHeight = float('NaN')\n",
    "\n",
    "    #...and weight. Same with tidying and returning blanks if it isn't there\n",
    "    try:\n",
    "        tempWeight = playerTree1.cssselect('.pdcol3 li+ li .info')[0].text_content()\n",
    "        tempWeight = int(re.search(r'\\d+', tempWeight).group())\n",
    "    except IndexError:\n",
    "        tempWeight = float('NaN')\n",
    "    \n",
    "    try:\n",
    "        tempgoals =  playerTree2.cssselect('.statgoals')[0].text_content()\n",
    "        tempgoals = int(re.search(r'\\d+', tempgoals).group())\n",
    "    except IndexError:\n",
    "        tempgoals = float('NaN')\n",
    "    #print(tempgoals)\n",
    "    \n",
    "    try:\n",
    "        tempassists =  playerTree2.cssselect('.statgoal_assist')[0].text_content()\n",
    "        tempassists = int(re.search(r'\\d+', tempassists).group())\n",
    "    except IndexError:\n",
    "        tempassists = float('NaN')\n",
    "    #print(tempassists)\n",
    "    \n",
    "    try:\n",
    "        tempapasses =  playerTree2.cssselect('.stattotal_pass')[0].text_content()\n",
    "        res2=tempapasses.replace(\",\", \"\")\n",
    "        tempapasses = int(re.search(r'\\d+', res2).group())\n",
    "        \n",
    "    except IndexError:\n",
    "        tempapasses = float('NaN')\n",
    "    #print(tempapasses)\n",
    "    \n",
    "    \n",
    "    try:\n",
    "        tempwins = playerTree2.cssselect('.statwins')[0].text_content()\n",
    "        tempwins = int(re.search(r'\\d+', tempwins).group())\n",
    "    except IndexError:\n",
    "        tempwins = float('NaN')\n",
    "    \n",
    "    try:\n",
    "        templosses = playerTree2.cssselect('.statlosses')[0].text_content()\n",
    "        templosses = int(re.search(r'\\d+', templosses).group())\n",
    "    except IndexError:\n",
    "        templosses = float('NaN')\n",
    "        \n",
    "    try:\n",
    "        tempYellowcards = playerTree2.cssselect('.statyellow_card')[0].text_content()\n",
    "        tempYellowcards = int(re.search(r'\\d+', tempYellowcards).group())\n",
    "    except IndexError:\n",
    "        tempYellowcards = float('NaN')\n",
    "        \n",
    "    try:\n",
    "        tempRedcards = playerTree2.cssselect('.statred_card')[0].text_content()\n",
    "        tempRedcards = int(re.search(r'\\d+', tempRedcards).group())\n",
    "    except IndexError:\n",
    "        tempRedcards = float('NaN')\n",
    "        \n",
    "    try:\n",
    "        tempFouls = playerTree2.cssselect('.statfouls')[0].text_content()\n",
    "        tempFouls = int(re.search(r'\\d+', tempFouls).group())\n",
    "    except IndexError:\n",
    "        tempFouls = float('NaN')     \n",
    "        \n",
    "    try:\n",
    "        tempposition = str(playerTree1.cssselect('.playerOverviewAside .info')[1].text_content())\n",
    "    except IndexError:\n",
    "        tempposition = str(\"BLANK\")\n",
    "    #print(tempposition)\n",
    "    \n",
    "    #Now that we have a player's full details - add them all to the lists\n",
    "    \n",
    "    Name.append(tempName)\n",
    "    Team.append(tempTeam)\n",
    "    Age.append(res)\n",
    "    Apps.append(tempApps)\n",
    "    HeightCM.append(tempHeight)\n",
    "    WeightKG.append(tempWeight)\n",
    "    Goals.append(tempgoals)\n",
    "    Assists.append(tempassists)\n",
    "    Passes.append(tempapasses)\n",
    "    Wins.append(tempwins)\n",
    "    Losses.append(templosses)\n",
    "    Yellowcards.append(tempYellowcards)\n",
    "    Redcards.append(tempRedcards)\n",
    "    Fouls.append(tempFouls)\n",
    "    Position.append(tempposition)"
   ]
  },
  {
   "cell_type": "code",
   "execution_count": null,
   "metadata": {
    "hidden": true
   },
   "outputs": [],
   "source": [
    "#Create data frame from lists\n",
    "df = pd.DataFrame(\n",
    "    {'Name':Name,\n",
    "     'Team':Team,\n",
    "     'Position':Position,\n",
    "     'Age':Age,\n",
    "     'Apps':Apps,\n",
    "     'HeightCM':HeightCM,\n",
    "     'WeightKG':WeightKG,\n",
    "    'Goals':Goals,\n",
    "    'Assists':Assists,\n",
    "    'Passes':Passes,\n",
    "     'Wins':Wins,\n",
    "      'Losses':Losses,\n",
    "   'Yellowcards':Yellowcards,\n",
    "    'Redcards':Redcards,\n",
    "    'Fouls':Fouls})\n",
    "\n",
    "#Show me the top 20 rows:\n",
    "\n",
    "df.head(20)"
   ]
  },
  {
   "cell_type": "code",
   "execution_count": null,
   "metadata": {
    "hidden": true
   },
   "outputs": [],
   "source": [
    "df.shape"
   ]
  },
  {
   "cell_type": "code",
   "execution_count": null,
   "metadata": {
    "hidden": true
   },
   "outputs": [],
   "source": [
    "df.to_csv('Teams_data.csv' ,index=False )"
   ]
  },
  {
   "cell_type": "markdown",
   "metadata": {
    "heading_collapsed": true
   },
   "source": [
    "# Pre-processing"
   ]
  },
  {
   "cell_type": "code",
   "execution_count": null,
   "metadata": {
    "hidden": true
   },
   "outputs": [],
   "source": [
    "df = pd.read_csv('Teams_data.csv')"
   ]
  },
  {
   "cell_type": "code",
   "execution_count": null,
   "metadata": {
    "hidden": true
   },
   "outputs": [],
   "source": [
    "df.info()"
   ]
  },
  {
   "cell_type": "code",
   "execution_count": null,
   "metadata": {
    "hidden": true
   },
   "outputs": [],
   "source": [
    "#cheking for null values\n",
    "df.isnull().sum()"
   ]
  },
  {
   "cell_type": "code",
   "execution_count": null,
   "metadata": {
    "hidden": true
   },
   "outputs": [],
   "source": [
    "df=df[df['Apps']!=0]\n",
    "df.reset_index(drop=True, inplace=True  )"
   ]
  },
  {
   "cell_type": "code",
   "execution_count": null,
   "metadata": {
    "hidden": true,
    "scrolled": true
   },
   "outputs": [],
   "source": [
    "df.isnull().sum()"
   ]
  },
  {
   "cell_type": "markdown",
   "metadata": {
    "hidden": true
   },
   "source": [
    "We have a missing data in HeightCM and WeightKG columns. So, we will fill them with the average height and weight for the players in the same age."
   ]
  },
  {
   "cell_type": "code",
   "execution_count": null,
   "metadata": {
    "hidden": true
   },
   "outputs": [],
   "source": [
    "# group the players by age\n",
    "group = df[['HeightCM' ,'WeightKG' ,'Age']].groupby('Age').mean()\n",
    "# fill the null values with the mean \n",
    "for i , r in df[df['HeightCM'].isnull()].iterrows():\n",
    "    age = df.iloc[i,3]\n",
    "    df.iloc[i,5] = group.loc[age , 'HeightCM']\n",
    "    \n",
    "for i , r in df[df['WeightKG'].isnull()].iterrows():\n",
    "    age = df.iloc[i,3]\n",
    "    df.iloc[i,6] = group.loc[age , 'WeightKG']\n",
    "df.isnull().sum()"
   ]
  },
  {
   "cell_type": "code",
   "execution_count": null,
   "metadata": {
    "hidden": true
   },
   "outputs": [],
   "source": [
    "#creating new columns\n",
    "\n",
    "df['Wins_ratio'] = df['Wins'] / df['Apps']\n",
    "\n",
    "df['Goals_ratio'] = df['Goals'] / df['Apps']\n",
    "    \n",
    "\n",
    "df['Yellowcardsd_ratio'] = df['Yellowcards'] / df['Apps']\n",
    "\n",
    "    \n",
    "df['Fouls_ratio'] = df['Fouls'] / df['Apps']\n",
    "\n",
    "    \n",
    "\n",
    "df['Passes_ratio'] = df['Passes'] / df['Apps']\n",
    "  "
   ]
  },
  {
   "cell_type": "code",
   "execution_count": null,
   "metadata": {
    "hidden": true
   },
   "outputs": [],
   "source": [
    "df.head()"
   ]
  },
  {
   "cell_type": "code",
   "execution_count": null,
   "metadata": {
    "hidden": true
   },
   "outputs": [],
   "source": [
    "# for further work we will need some columns to be descritisized, in this section we add descritisized columns to the data\n",
    "# descritizing of some columns\n",
    "df['Ycards_ratio_dicretized']=pd.qcut(df['Yellowcardsd_ratio'],3, labels=['Low','Medium','High'])\n",
    "df['Fouls_ratio_dicretized']=pd.qcut(df['Fouls_ratio'],3, labels=['Low','Medium','High'])"
   ]
  },
  {
   "cell_type": "code",
   "execution_count": null,
   "metadata": {
    "hidden": true
   },
   "outputs": [],
   "source": [
    "df.head()"
   ]
  },
  {
   "cell_type": "code",
   "execution_count": null,
   "metadata": {
    "hidden": true
   },
   "outputs": [],
   "source": [
    "df.describe() # statical sammary"
   ]
  },
  {
   "cell_type": "code",
   "execution_count": null,
   "metadata": {
    "hidden": true,
    "scrolled": true
   },
   "outputs": [],
   "source": [
    "df.info()"
   ]
  },
  {
   "cell_type": "markdown",
   "metadata": {},
   "source": [
    "Now let's see how many teams we have and how many players they contain"
   ]
  },
  {
   "cell_type": "code",
   "execution_count": null,
   "metadata": {
    "hidden": true
   },
   "outputs": [],
   "source": [
    "df['Team'].value_counts()"
   ]
  },
  {
   "cell_type": "markdown",
   "metadata": {
    "hidden": true
   },
   "source": [
    "We now will clean the teams names"
   ]
  },
  {
   "cell_type": "code",
   "execution_count": null,
   "metadata": {
    "hidden": true
   },
   "outputs": [],
   "source": [
    "# remove '(Loan)' and ' U21' from teams name\n",
    "# substitute & to and\n",
    "df['Team'] = df['Team'].apply(lambda x : re.sub(\"\\(Loan\\)|U21\",' ' ,x).strip())\n",
    "df['Team'] = df['Team'].apply(lambda x : re.sub(\"&\",'and' ,x))"
   ]
  },
  {
   "cell_type": "code",
   "execution_count": null,
   "metadata": {
    "hidden": true
   },
   "outputs": [],
   "source": [
    "df['Team'].value_counts()"
   ]
  },
  {
   "cell_type": "markdown",
   "metadata": {},
   "source": [
    "There is still one team with one player so we will drop it "
   ]
  },
  {
   "cell_type": "code",
   "execution_count": null,
   "metadata": {},
   "outputs": [],
   "source": [
    "df = df.drop(index = 395).reset_index()\n",
    "df['Team'].value_counts()"
   ]
  },
  {
   "cell_type": "code",
   "execution_count": null,
   "metadata": {
    "hidden": true
   },
   "outputs": [],
   "source": [
    "df.to_csv('processing_Teams_data.csv' ,index=False )"
   ]
  },
  {
   "cell_type": "markdown",
   "metadata": {
    "heading_collapsed": true
   },
   "source": [
    "# Analysis"
   ]
  },
  {
   "cell_type": "code",
   "execution_count": 20,
   "metadata": {
    "hidden": true
   },
   "outputs": [],
   "source": [
    "import matplotlib.pyplot as plt\n",
    "import seaborn as sns\n",
    "import scipy.stats as stats\n",
    "%matplotlib inline"
   ]
  },
  {
   "cell_type": "code",
   "execution_count": 21,
   "metadata": {
    "hidden": true
   },
   "outputs": [],
   "source": [
    "df = pd.read_csv('processing_Teams_data.csv')"
   ]
  },
  {
   "cell_type": "code",
   "execution_count": 22,
   "metadata": {
    "hidden": true,
    "scrolled": false
   },
   "outputs": [
    {
     "data": {
      "text/html": [
       "<div>\n",
       "<style scoped>\n",
       "    .dataframe tbody tr th:only-of-type {\n",
       "        vertical-align: middle;\n",
       "    }\n",
       "\n",
       "    .dataframe tbody tr th {\n",
       "        vertical-align: top;\n",
       "    }\n",
       "\n",
       "    .dataframe thead th {\n",
       "        text-align: right;\n",
       "    }\n",
       "</style>\n",
       "<table border=\"1\" class=\"dataframe\">\n",
       "  <thead>\n",
       "    <tr style=\"text-align: right;\">\n",
       "      <th></th>\n",
       "      <th>index</th>\n",
       "      <th>Name</th>\n",
       "      <th>Team</th>\n",
       "      <th>Position</th>\n",
       "      <th>Age</th>\n",
       "      <th>Apps</th>\n",
       "      <th>HeightCM</th>\n",
       "      <th>WeightKG</th>\n",
       "      <th>Goals</th>\n",
       "      <th>Assists</th>\n",
       "      <th>...</th>\n",
       "      <th>Yellowcards</th>\n",
       "      <th>Redcards</th>\n",
       "      <th>Fouls</th>\n",
       "      <th>Wins_ratio</th>\n",
       "      <th>Goals_ratio</th>\n",
       "      <th>Yellowcardsd_ratio</th>\n",
       "      <th>Fouls_ratio</th>\n",
       "      <th>Passes_ratio</th>\n",
       "      <th>Ycards_ratio_dicretized</th>\n",
       "      <th>Fouls_ratio_dicretized</th>\n",
       "    </tr>\n",
       "  </thead>\n",
       "  <tbody>\n",
       "    <tr>\n",
       "      <th>0</th>\n",
       "      <td>0</td>\n",
       "      <td>Bernd Leno</td>\n",
       "      <td>Arsenal</td>\n",
       "      <td>Goalkeeper</td>\n",
       "      <td>29</td>\n",
       "      <td>96</td>\n",
       "      <td>190.0</td>\n",
       "      <td>83.0</td>\n",
       "      <td>0</td>\n",
       "      <td>0</td>\n",
       "      <td>...</td>\n",
       "      <td>2</td>\n",
       "      <td>1</td>\n",
       "      <td>2</td>\n",
       "      <td>0.437500</td>\n",
       "      <td>0.000000</td>\n",
       "      <td>0.020833</td>\n",
       "      <td>0.020833</td>\n",
       "      <td>28.010417</td>\n",
       "      <td>Low</td>\n",
       "      <td>Low</td>\n",
       "    </tr>\n",
       "    <tr>\n",
       "      <th>1</th>\n",
       "      <td>1</td>\n",
       "      <td>RÃºnar Alex RÃºnarsson</td>\n",
       "      <td>Arsenal</td>\n",
       "      <td>Goalkeeper</td>\n",
       "      <td>26</td>\n",
       "      <td>1</td>\n",
       "      <td>186.0</td>\n",
       "      <td>76.0</td>\n",
       "      <td>0</td>\n",
       "      <td>0</td>\n",
       "      <td>...</td>\n",
       "      <td>0</td>\n",
       "      <td>0</td>\n",
       "      <td>0</td>\n",
       "      <td>0.000000</td>\n",
       "      <td>0.000000</td>\n",
       "      <td>0.000000</td>\n",
       "      <td>0.000000</td>\n",
       "      <td>9.000000</td>\n",
       "      <td>Low</td>\n",
       "      <td>Low</td>\n",
       "    </tr>\n",
       "    <tr>\n",
       "      <th>2</th>\n",
       "      <td>2</td>\n",
       "      <td>Mat Ryan</td>\n",
       "      <td>Arsenal</td>\n",
       "      <td>Goalkeeper</td>\n",
       "      <td>29</td>\n",
       "      <td>124</td>\n",
       "      <td>184.0</td>\n",
       "      <td>82.0</td>\n",
       "      <td>0</td>\n",
       "      <td>0</td>\n",
       "      <td>...</td>\n",
       "      <td>3</td>\n",
       "      <td>0</td>\n",
       "      <td>2</td>\n",
       "      <td>0.233871</td>\n",
       "      <td>0.000000</td>\n",
       "      <td>0.024194</td>\n",
       "      <td>0.016129</td>\n",
       "      <td>29.000000</td>\n",
       "      <td>Low</td>\n",
       "      <td>Low</td>\n",
       "    </tr>\n",
       "    <tr>\n",
       "      <th>3</th>\n",
       "      <td>3</td>\n",
       "      <td>HÃ©ctor BellerÃ­n</td>\n",
       "      <td>Arsenal</td>\n",
       "      <td>Defender</td>\n",
       "      <td>26</td>\n",
       "      <td>183</td>\n",
       "      <td>178.0</td>\n",
       "      <td>74.0</td>\n",
       "      <td>8</td>\n",
       "      <td>20</td>\n",
       "      <td>...</td>\n",
       "      <td>30</td>\n",
       "      <td>0</td>\n",
       "      <td>143</td>\n",
       "      <td>0.540984</td>\n",
       "      <td>0.043716</td>\n",
       "      <td>0.163934</td>\n",
       "      <td>0.781421</td>\n",
       "      <td>44.486339</td>\n",
       "      <td>High</td>\n",
       "      <td>Medium</td>\n",
       "    </tr>\n",
       "    <tr>\n",
       "      <th>4</th>\n",
       "      <td>4</td>\n",
       "      <td>Kieran Tierney</td>\n",
       "      <td>Arsenal</td>\n",
       "      <td>Defender</td>\n",
       "      <td>23</td>\n",
       "      <td>41</td>\n",
       "      <td>178.0</td>\n",
       "      <td>70.0</td>\n",
       "      <td>2</td>\n",
       "      <td>4</td>\n",
       "      <td>...</td>\n",
       "      <td>6</td>\n",
       "      <td>0</td>\n",
       "      <td>22</td>\n",
       "      <td>0.439024</td>\n",
       "      <td>0.048780</td>\n",
       "      <td>0.146341</td>\n",
       "      <td>0.536585</td>\n",
       "      <td>38.780488</td>\n",
       "      <td>High</td>\n",
       "      <td>Low</td>\n",
       "    </tr>\n",
       "  </tbody>\n",
       "</table>\n",
       "<p>5 rows × 23 columns</p>\n",
       "</div>"
      ],
      "text/plain": [
       "   index                    Name     Team    Position  Age  Apps  HeightCM  \\\n",
       "0      0              Bernd Leno  Arsenal  Goalkeeper   29    96     190.0   \n",
       "1      1  RÃºnar Alex RÃºnarsson  Arsenal  Goalkeeper   26     1     186.0   \n",
       "2      2                Mat Ryan  Arsenal  Goalkeeper   29   124     184.0   \n",
       "3      3       HÃ©ctor BellerÃ­n  Arsenal    Defender   26   183     178.0   \n",
       "4      4          Kieran Tierney  Arsenal    Defender   23    41     178.0   \n",
       "\n",
       "   WeightKG  Goals  Assists  ...  Yellowcards  Redcards  Fouls  Wins_ratio  \\\n",
       "0      83.0      0        0  ...            2         1      2    0.437500   \n",
       "1      76.0      0        0  ...            0         0      0    0.000000   \n",
       "2      82.0      0        0  ...            3         0      2    0.233871   \n",
       "3      74.0      8       20  ...           30         0    143    0.540984   \n",
       "4      70.0      2        4  ...            6         0     22    0.439024   \n",
       "\n",
       "   Goals_ratio  Yellowcardsd_ratio  Fouls_ratio  Passes_ratio  \\\n",
       "0     0.000000            0.020833     0.020833     28.010417   \n",
       "1     0.000000            0.000000     0.000000      9.000000   \n",
       "2     0.000000            0.024194     0.016129     29.000000   \n",
       "3     0.043716            0.163934     0.781421     44.486339   \n",
       "4     0.048780            0.146341     0.536585     38.780488   \n",
       "\n",
       "   Ycards_ratio_dicretized  Fouls_ratio_dicretized  \n",
       "0                      Low                     Low  \n",
       "1                      Low                     Low  \n",
       "2                      Low                     Low  \n",
       "3                     High                  Medium  \n",
       "4                     High                     Low  \n",
       "\n",
       "[5 rows x 23 columns]"
      ]
     },
     "execution_count": 22,
     "metadata": {},
     "output_type": "execute_result"
    }
   ],
   "source": [
    "df.head()"
   ]
  },
  {
   "cell_type": "markdown",
   "metadata": {
    "hidden": true
   },
   "source": [
    "check for normality useing Probability-plot"
   ]
  },
  {
   "cell_type": "code",
   "execution_count": 35,
   "metadata": {
    "hidden": true,
    "scrolled": true
   },
   "outputs": [
    {
     "data": {
      "image/png": "[encoded data removed]",
      "text/plain": [
       "<Figure size 1080x720 with 7 Axes>"
      ]
     },
     "metadata": {
      "needs_background": "light"
     },
     "output_type": "display_data"
    }
   ],
   "source": [
    "plt.subplot(3,3,1)\n",
    "#Fouls\n",
    "data = df['Fouls_ratio'].values\n",
    "stats.probplot(data , plot =plt)\n",
    "plt.title('Fouls_ratio')\n",
    "plt.xlabel(' ')\n",
    "plt.xticks([])\n",
    "\n",
    "plt.subplot(3,3,2)\n",
    "#Goals\n",
    "data = df['Goals_ratio'].values\n",
    "stats.probplot(data , plot =plt)\n",
    "plt.title('Goals_ratio')\n",
    "plt.xlabel(' ')\n",
    "plt.xticks([])\n",
    "\n",
    "plt.subplot(3,3,3)\n",
    "#Passes\n",
    "data = df['Passes_ratio'].values\n",
    "stats.probplot(data , plot =plt)\n",
    "plt.title('Passes_ratio')\n",
    "plt.xlabel(' ')\n",
    "plt.xticks([])\n",
    "\n",
    "plt.subplot(3,3,4)\n",
    "#Wins\n",
    "data = df['Wins_ratio'].values\n",
    "stats.probplot(data , plot =plt)\n",
    "plt.title('Wins_ratio')\n",
    "plt.xlabel(' ')\n",
    "plt.xticks([])\n",
    "\n",
    "\n",
    "plt.subplot(3,3,5)\n",
    "#Yellowcards\n",
    "data = df['Yellowcardsd_ratio'].values\n",
    "stats.probplot(data , plot =plt)\n",
    "plt.title('Yellowcardsd_ratio')\n",
    "plt.xlabel(' ')\n",
    "\n",
    "plt.subplot(3,3,6)\n",
    "#HeightCM\n",
    "data = df['HeightCM'].values\n",
    "stats.probplot(data , plot =plt)\n",
    "plt.title('HeightCM')\n",
    "plt.xlabel(' ')\n",
    "\n",
    "plt.subplot(3,3,7)\n",
    "#WeightKG\n",
    "data = df['WeightKG'].values\n",
    "stats.probplot(data , plot =plt)\n",
    "plt.title('WeightKG')\n",
    "plt.xlabel(' ')\n",
    "\n",
    "plt.rcParams[\"figure.figsize\"] = (15,10)\n",
    "plt.show()"
   ]
  },
  {
   "cell_type": "markdown",
   "metadata": {
    "hidden": true
   },
   "source": [
    "### check for normality useing D’Agostino–Pearson omnibus test"
   ]
  },
  {
   "cell_type": "code",
   "execution_count": 24,
   "metadata": {
    "hidden": true
   },
   "outputs": [
    {
     "name": "stdout",
     "output_type": "stream",
     "text": [
      "NormaltestResult(statistic=22.502082130727228, pvalue=1.2993763253326077e-05)\n",
      "NormaltestResult(statistic=2.686320985824575, pvalue=0.26101941357497754)\n",
      "NormaltestResult(statistic=1.0197814019362024, pvalue=0.600561215984664)\n",
      "NormaltestResult(statistic=253.2031502370201, pvalue=1.0414406512339953e-55)\n",
      "NormaltestResult(statistic=21.093840309189435, pvalue=2.6274277095531704e-05)\n",
      "NormaltestResult(statistic=28.60978868433108, pvalue=6.130040205849619e-07)\n",
      "NormaltestResult(statistic=364.25505863133543, pvalue=7.998692764224537e-80)\n"
     ]
    }
   ],
   "source": [
    "print(stats.normaltest(df['WeightKG'].values))\n",
    "print(stats.normaltest(df['HeightCM'].values))\n",
    "print(stats.normaltest(df['Fouls_ratio'].values))\n",
    "print(stats.normaltest(df['Goals_ratio'].values))\n",
    "print(stats.normaltest(df['Passes_ratio'].values))\n",
    "print(stats.normaltest(df['Wins_ratio'].values))\n",
    "print(stats.normaltest(df['Yellowcardsd_ratio'].values))"
   ]
  },
  {
   "cell_type": "markdown",
   "metadata": {
    "hidden": true
   },
   "source": [
    "From the first figur we can notice that Passes_ratio, WeightKG and HeightCM are somehow fitting the line but after the D’Agostino–Pearson omnibus test it turns out that both of HeightCM and Fouls_ratio are the data with normal distribution\n",
    "\n",
    "---------------------------------------"
   ]
  },
  {
   "cell_type": "code",
   "execution_count": 25,
   "metadata": {},
   "outputs": [
    {
     "name": "stderr",
     "output_type": "stream",
     "text": [
      "C:\\Users\\Computergy World\\anaconda3\\lib\\site-packages\\seaborn\\distributions.py:2551: FutureWarning: `distplot` is a deprecated function and will be removed in a future version. Please adapt your code to use either `displot` (a figure-level function with similar flexibility) or `histplot` (an axes-level function for histograms).\n",
      "  warnings.warn(msg, FutureWarning)\n",
      "C:\\Users\\Computergy World\\anaconda3\\lib\\site-packages\\seaborn\\distributions.py:2551: FutureWarning: `distplot` is a deprecated function and will be removed in a future version. Please adapt your code to use either `displot` (a figure-level function with similar flexibility) or `histplot` (an axes-level function for histograms).\n",
      "  warnings.warn(msg, FutureWarning)\n"
     ]
    },
    {
     "data": {
      "image/png": "[encoded data removed]",
      "text/plain": [
       "<Figure size 1080x720 with 2 Axes>"
      ]
     },
     "metadata": {
      "needs_background": "light"
     },
     "output_type": "display_data"
    }
   ],
   "source": [
    "plt.subplot(1,2,1)\n",
    "sns.distplot(df['HeightCM'], hist=True, kde=True)\n",
    "\n",
    "plt.subplot(1,2,2)\n",
    "sns.distplot(df['Fouls_ratio'], hist=True, kde=True)\n",
    "plt.show()"
   ]
  },
  {
   "cell_type": "markdown",
   "metadata": {},
   "source": [
    "___________________________________"
   ]
  },
  {
   "cell_type": "code",
   "execution_count": 26,
   "metadata": {},
   "outputs": [
    {
     "data": {
      "image/png": "[encoded data removed]",
      "text/plain": [
       "<Figure size 360x360 with 1 Axes>"
      ]
     },
     "metadata": {
      "needs_background": "light"
     },
     "output_type": "display_data"
    }
   ],
   "source": [
    "#plot the distribution of Height for each Positon\n",
    "sns.catplot(x=\"Position\", y=\"HeightCM\", kind=\"box\", data=df)\n",
    "plt.show()"
   ]
  },
  {
   "cell_type": "markdown",
   "metadata": {},
   "source": [
    "We can see that the mean of heights for defender, midfielder and forward are close to each other. In other hand for players in goalkeeper position the average is higher than hights for other positions."
   ]
  },
  {
   "cell_type": "markdown",
   "metadata": {},
   "source": [
    "______________________"
   ]
  },
  {
   "cell_type": "code",
   "execution_count": 27,
   "metadata": {},
   "outputs": [
    {
     "data": {
      "image/png": "[encoded data removed]",
      "text/plain": [
       "<Figure size 452.875x360 with 1 Axes>"
      ]
     },
     "metadata": {
      "needs_background": "light"
     },
     "output_type": "display_data"
    }
   ],
   "source": [
    "sns.relplot(x=\"Apps\", y=\"Fouls\",hue='Position' ,data=df)\n",
    "plt.show()"
   ]
  },
  {
   "cell_type": "markdown",
   "metadata": {},
   "source": [
    "There seems to be a positive correlatoin between the number of apps and the number of fouls commited by players in each position. The only exception for this relation is for the apps of goal keepers and their commited fouls. It is obvious that the number of fouls committed by goal keeper is low regardless of the number of games they have played. This could be attributed to the fact that goal keepers usually have less contact with other players."
   ]
  },
  {
   "cell_type": "markdown",
   "metadata": {},
   "source": [
    "________________"
   ]
  },
  {
   "cell_type": "code",
   "execution_count": 28,
   "metadata": {},
   "outputs": [
    {
     "data": {
      "image/png": "[encoded data removed]",
      "text/plain": [
       "<Figure size 360x360 with 1 Axes>"
      ]
     },
     "metadata": {
      "needs_background": "light"
     },
     "output_type": "display_data"
    },
    {
     "data": {
      "image/png": "[encoded data removed]",
      "text/plain": [
       "<Figure size 360x360 with 1 Axes>"
      ]
     },
     "metadata": {
      "needs_background": "light"
     },
     "output_type": "display_data"
    }
   ],
   "source": [
    "#plt.subplot(1,2,1)\n",
    "sns.catplot(x=\"Fouls_ratio_dicretized\", y=\"Passes_ratio\", kind=\"box\", data=df)\n",
    "#plt.subplot(1,2,2)\n",
    "sns.catplot(x=\"Ycards_ratio_dicretized\", y=\"Passes_ratio\", kind=\"box\", data=df)\n",
    "plt.show()\n"
   ]
  },
  {
   "cell_type": "markdown",
   "metadata": {},
   "source": [
    "____________"
   ]
  },
  {
   "cell_type": "markdown",
   "metadata": {},
   "source": [
    "Now we will create new table grouped by teams contain the total of red cards and the total of yellow cards"
   ]
  },
  {
   "cell_type": "code",
   "execution_count": 29,
   "metadata": {},
   "outputs": [
    {
     "data": {
      "text/html": [
       "<div>\n",
       "<style scoped>\n",
       "    .dataframe tbody tr th:only-of-type {\n",
       "        vertical-align: middle;\n",
       "    }\n",
       "\n",
       "    .dataframe tbody tr th {\n",
       "        vertical-align: top;\n",
       "    }\n",
       "\n",
       "    .dataframe thead th {\n",
       "        text-align: right;\n",
       "    }\n",
       "</style>\n",
       "<table border=\"1\" class=\"dataframe\">\n",
       "  <thead>\n",
       "    <tr style=\"text-align: right;\">\n",
       "      <th></th>\n",
       "      <th>Redcards</th>\n",
       "      <th>Yellowcards</th>\n",
       "    </tr>\n",
       "    <tr>\n",
       "      <th>Team</th>\n",
       "      <th></th>\n",
       "      <th></th>\n",
       "    </tr>\n",
       "  </thead>\n",
       "  <tbody>\n",
       "    <tr>\n",
       "      <th>Arsenal</th>\n",
       "      <td>15</td>\n",
       "      <td>259</td>\n",
       "    </tr>\n",
       "    <tr>\n",
       "      <th>Aston Villa</th>\n",
       "      <td>6</td>\n",
       "      <td>174</td>\n",
       "    </tr>\n",
       "    <tr>\n",
       "      <th>Brighton and Hove Albion</th>\n",
       "      <td>8</td>\n",
       "      <td>147</td>\n",
       "    </tr>\n",
       "    <tr>\n",
       "      <th>Burnley</th>\n",
       "      <td>6</td>\n",
       "      <td>432</td>\n",
       "    </tr>\n",
       "    <tr>\n",
       "      <th>Chelsea</th>\n",
       "      <td>8</td>\n",
       "      <td>214</td>\n",
       "    </tr>\n",
       "  </tbody>\n",
       "</table>\n",
       "</div>"
      ],
      "text/plain": [
       "                          Redcards  Yellowcards\n",
       "Team                                           \n",
       "Arsenal                         15          259\n",
       "Aston Villa                      6          174\n",
       "Brighton and Hove Albion         8          147\n",
       "Burnley                          6          432\n",
       "Chelsea                          8          214"
      ]
     },
     "execution_count": 29,
     "metadata": {},
     "output_type": "execute_result"
    }
   ],
   "source": [
    "Team = df[[ 'Redcards','Yellowcards' ,'Team']].groupby('Team').agg(sum)\n",
    "Team.head()"
   ]
  },
  {
   "cell_type": "code",
   "execution_count": 30,
   "metadata": {},
   "outputs": [
    {
     "data": {
      "image/png": "[encoded data removed]",
      "text/plain": [
       "<Figure size 1080x720 with 1 Axes>"
      ]
     },
     "metadata": {
      "needs_background": "light"
     },
     "output_type": "display_data"
    }
   ],
   "source": [
    "x = np.arange(len(Team))\n",
    "width = 0.3\n",
    "plt.barh(x , Team['Yellowcards'],width, color = '#f7ea00' )\n",
    "plt.barh(x-0.3 ,Team['Redcards'],width , color='#ce1212')\n",
    "\n",
    "plt.yticks(x, Team.index)\n",
    "plt.legend([\"Yellow cards\", \"Red cards\"])\n",
    "plt.xlabel('Total numbers',fontsize=16)\n",
    "plt.ylabel('Teams',fontsize=16)\n",
    "plt.show()"
   ]
  },
  {
   "cell_type": "markdown",
   "metadata": {},
   "source": [
    "# Type of study"
   ]
  },
  {
   "cell_type": "markdown",
   "metadata": {},
   "source": [
    "Our case study is :\n",
    "- **Observational study**; because we collected information, but did not interact with the study population (players) and without trying to affect them.\n",
    "\n",
    "- **Retrospective study**; because we took our data from previous matches since 2015 up to this season of Premier league.\n",
    "\n",
    "- **longitudinal investigations**; we have collected information(Apps, Goals, Fouls, wins,passes,..etc) over a period of time for 6 seasons(2015-2021), multiple times from each player.\n",
    "\n",
    "- **Case-Control**; in our study we evaluated the teams based on certain criteria. The top four in the Premier League qualify for the Champions League group stages - plus the winners of the Champions League and Europa League, there can be a maximum of five English teams in the Champions League.\n"
   ]
  },
  {
   "cell_type": "markdown",
   "metadata": {},
   "source": [
    "# Hypothesis Testing"
   ]
  },
  {
   "cell_type": "markdown",
   "metadata": {},
   "source": [
    "In Premier league when a club wants to loan a new goalkeeper they have to put into consideration different things, depending on goalkeepers posture their heights have to be higher from others in the same team.\n",
    "\n",
    "For each 20 team in Premier League there are 4 positions : **goalkeeper, defender, midfielder and forward**.The average amount of players' height is different from position to another as shown in the figure below. The mean for goalkeepers is 190.666667. Is this difference significant? Test at the 5% level of significance.\n",
    " "
   ]
  },
  {
   "cell_type": "code",
   "execution_count": 31,
   "metadata": {},
   "outputs": [
    {
     "data": {
      "image/png": "[encoded data removed]",
      "text/plain": [
       "<Figure size 360x360 with 1 Axes>"
      ]
     },
     "metadata": {
      "needs_background": "light"
     },
     "output_type": "display_data"
    }
   ],
   "source": [
    "#plot the distribution of Height for each Position\n",
    "sns.catplot(x=\"Position\", y=\"HeightCM\", kind=\"box\", data=df)\n",
    "plt.show()"
   ]
  },
  {
   "cell_type": "markdown",
   "metadata": {},
   "source": [
    "$H_0: \\mu_1 = \\mu_2  $ \n",
    "\n",
    "$H_1: \\mu_1 \\neq \\mu_2 $"
   ]
  },
  {
   "cell_type": "code",
   "execution_count": 32,
   "metadata": {},
   "outputs": [
    {
     "data": {
      "text/html": [
       "<div>\n",
       "<style scoped>\n",
       "    .dataframe tbody tr th:only-of-type {\n",
       "        vertical-align: middle;\n",
       "    }\n",
       "\n",
       "    .dataframe tbody tr th {\n",
       "        vertical-align: top;\n",
       "    }\n",
       "\n",
       "    .dataframe thead th {\n",
       "        text-align: right;\n",
       "    }\n",
       "</style>\n",
       "<table border=\"1\" class=\"dataframe\">\n",
       "  <thead>\n",
       "    <tr style=\"text-align: right;\">\n",
       "      <th></th>\n",
       "      <th>index</th>\n",
       "      <th>Age</th>\n",
       "      <th>Apps</th>\n",
       "      <th>HeightCM</th>\n",
       "      <th>WeightKG</th>\n",
       "      <th>Goals</th>\n",
       "      <th>Assists</th>\n",
       "      <th>Passes</th>\n",
       "      <th>Wins</th>\n",
       "      <th>Losses</th>\n",
       "      <th>Yellowcards</th>\n",
       "      <th>Redcards</th>\n",
       "      <th>Fouls</th>\n",
       "      <th>Wins_ratio</th>\n",
       "      <th>Goals_ratio</th>\n",
       "      <th>Yellowcardsd_ratio</th>\n",
       "      <th>Fouls_ratio</th>\n",
       "      <th>Passes_ratio</th>\n",
       "    </tr>\n",
       "  </thead>\n",
       "  <tbody>\n",
       "    <tr>\n",
       "      <th>count</th>\n",
       "      <td>517.000000</td>\n",
       "      <td>517.000000</td>\n",
       "      <td>517.000000</td>\n",
       "      <td>517.000000</td>\n",
       "      <td>517.000000</td>\n",
       "      <td>517.000000</td>\n",
       "      <td>517.000000</td>\n",
       "      <td>517.000000</td>\n",
       "      <td>517.000000</td>\n",
       "      <td>517.000000</td>\n",
       "      <td>517.000000</td>\n",
       "      <td>517.000000</td>\n",
       "      <td>517.000000</td>\n",
       "      <td>517.000000</td>\n",
       "      <td>517.000000</td>\n",
       "      <td>517.000000</td>\n",
       "      <td>517.000000</td>\n",
       "      <td>517.000000</td>\n",
       "    </tr>\n",
       "    <tr>\n",
       "      <th>mean</th>\n",
       "      <td>258.235977</td>\n",
       "      <td>26.500967</td>\n",
       "      <td>90.309478</td>\n",
       "      <td>182.263833</td>\n",
       "      <td>75.889598</td>\n",
       "      <td>9.551257</td>\n",
       "      <td>6.742747</td>\n",
       "      <td>3055.411992</td>\n",
       "      <td>37.386847</td>\n",
       "      <td>31.895551</td>\n",
       "      <td>10.106383</td>\n",
       "      <td>0.396518</td>\n",
       "      <td>69.856867</td>\n",
       "      <td>0.376812</td>\n",
       "      <td>0.079985</td>\n",
       "      <td>0.101409</td>\n",
       "      <td>0.707616</td>\n",
       "      <td>30.504284</td>\n",
       "    </tr>\n",
       "    <tr>\n",
       "      <th>std</th>\n",
       "      <td>149.702167</td>\n",
       "      <td>4.479767</td>\n",
       "      <td>86.609147</td>\n",
       "      <td>6.763368</td>\n",
       "      <td>7.451112</td>\n",
       "      <td>19.162397</td>\n",
       "      <td>10.815828</td>\n",
       "      <td>3399.461030</td>\n",
       "      <td>41.953339</td>\n",
       "      <td>30.193766</td>\n",
       "      <td>12.488533</td>\n",
       "      <td>0.779726</td>\n",
       "      <td>81.604518</td>\n",
       "      <td>0.188456</td>\n",
       "      <td>0.107870</td>\n",
       "      <td>0.088196</td>\n",
       "      <td>0.414354</td>\n",
       "      <td>16.163074</td>\n",
       "    </tr>\n",
       "    <tr>\n",
       "      <th>min</th>\n",
       "      <td>0.000000</td>\n",
       "      <td>17.000000</td>\n",
       "      <td>1.000000</td>\n",
       "      <td>163.000000</td>\n",
       "      <td>57.000000</td>\n",
       "      <td>0.000000</td>\n",
       "      <td>0.000000</td>\n",
       "      <td>0.000000</td>\n",
       "      <td>0.000000</td>\n",
       "      <td>0.000000</td>\n",
       "      <td>0.000000</td>\n",
       "      <td>0.000000</td>\n",
       "      <td>0.000000</td>\n",
       "      <td>0.000000</td>\n",
       "      <td>0.000000</td>\n",
       "      <td>0.000000</td>\n",
       "      <td>0.000000</td>\n",
       "      <td>0.000000</td>\n",
       "    </tr>\n",
       "    <tr>\n",
       "      <th>25%</th>\n",
       "      <td>129.000000</td>\n",
       "      <td>23.000000</td>\n",
       "      <td>26.000000</td>\n",
       "      <td>178.000000</td>\n",
       "      <td>70.000000</td>\n",
       "      <td>0.000000</td>\n",
       "      <td>0.000000</td>\n",
       "      <td>629.000000</td>\n",
       "      <td>7.000000</td>\n",
       "      <td>9.000000</td>\n",
       "      <td>2.000000</td>\n",
       "      <td>0.000000</td>\n",
       "      <td>13.000000</td>\n",
       "      <td>0.269231</td>\n",
       "      <td>0.000000</td>\n",
       "      <td>0.037037</td>\n",
       "      <td>0.470000</td>\n",
       "      <td>19.360784</td>\n",
       "    </tr>\n",
       "    <tr>\n",
       "      <th>50%</th>\n",
       "      <td>258.000000</td>\n",
       "      <td>27.000000</td>\n",
       "      <td>62.000000</td>\n",
       "      <td>182.000000</td>\n",
       "      <td>75.000000</td>\n",
       "      <td>2.000000</td>\n",
       "      <td>2.000000</td>\n",
       "      <td>1820.000000</td>\n",
       "      <td>21.000000</td>\n",
       "      <td>21.000000</td>\n",
       "      <td>6.000000</td>\n",
       "      <td>0.000000</td>\n",
       "      <td>40.000000</td>\n",
       "      <td>0.364198</td>\n",
       "      <td>0.041096</td>\n",
       "      <td>0.094183</td>\n",
       "      <td>0.714286</td>\n",
       "      <td>28.965517</td>\n",
       "    </tr>\n",
       "    <tr>\n",
       "      <th>75%</th>\n",
       "      <td>387.000000</td>\n",
       "      <td>30.000000</td>\n",
       "      <td>139.000000</td>\n",
       "      <td>188.000000</td>\n",
       "      <td>80.000000</td>\n",
       "      <td>9.000000</td>\n",
       "      <td>8.000000</td>\n",
       "      <td>4481.000000</td>\n",
       "      <td>53.000000</td>\n",
       "      <td>45.000000</td>\n",
       "      <td>14.000000</td>\n",
       "      <td>1.000000</td>\n",
       "      <td>101.000000</td>\n",
       "      <td>0.494253</td>\n",
       "      <td>0.111111</td>\n",
       "      <td>0.148936</td>\n",
       "      <td>0.961538</td>\n",
       "      <td>40.493506</td>\n",
       "    </tr>\n",
       "    <tr>\n",
       "      <th>max</th>\n",
       "      <td>517.000000</td>\n",
       "      <td>39.000000</td>\n",
       "      <td>563.000000</td>\n",
       "      <td>201.000000</td>\n",
       "      <td>101.000000</td>\n",
       "      <td>182.000000</td>\n",
       "      <td>85.000000</td>\n",
       "      <td>19662.000000</td>\n",
       "      <td>283.000000</td>\n",
       "      <td>163.000000</td>\n",
       "      <td>82.000000</td>\n",
       "      <td>5.000000</td>\n",
       "      <td>456.000000</td>\n",
       "      <td>1.000000</td>\n",
       "      <td>0.676230</td>\n",
       "      <td>1.000000</td>\n",
       "      <td>2.000000</td>\n",
       "      <td>84.863636</td>\n",
       "    </tr>\n",
       "  </tbody>\n",
       "</table>\n",
       "</div>"
      ],
      "text/plain": [
       "            index         Age        Apps    HeightCM    WeightKG       Goals  \\\n",
       "count  517.000000  517.000000  517.000000  517.000000  517.000000  517.000000   \n",
       "mean   258.235977   26.500967   90.309478  182.263833   75.889598    9.551257   \n",
       "std    149.702167    4.479767   86.609147    6.763368    7.451112   19.162397   \n",
       "min      0.000000   17.000000    1.000000  163.000000   57.000000    0.000000   \n",
       "25%    129.000000   23.000000   26.000000  178.000000   70.000000    0.000000   \n",
       "50%    258.000000   27.000000   62.000000  182.000000   75.000000    2.000000   \n",
       "75%    387.000000   30.000000  139.000000  188.000000   80.000000    9.000000   \n",
       "max    517.000000   39.000000  563.000000  201.000000  101.000000  182.000000   \n",
       "\n",
       "          Assists        Passes        Wins      Losses  Yellowcards  \\\n",
       "count  517.000000    517.000000  517.000000  517.000000   517.000000   \n",
       "mean     6.742747   3055.411992   37.386847   31.895551    10.106383   \n",
       "std     10.815828   3399.461030   41.953339   30.193766    12.488533   \n",
       "min      0.000000      0.000000    0.000000    0.000000     0.000000   \n",
       "25%      0.000000    629.000000    7.000000    9.000000     2.000000   \n",
       "50%      2.000000   1820.000000   21.000000   21.000000     6.000000   \n",
       "75%      8.000000   4481.000000   53.000000   45.000000    14.000000   \n",
       "max     85.000000  19662.000000  283.000000  163.000000    82.000000   \n",
       "\n",
       "         Redcards       Fouls  Wins_ratio  Goals_ratio  Yellowcardsd_ratio  \\\n",
       "count  517.000000  517.000000  517.000000   517.000000          517.000000   \n",
       "mean     0.396518   69.856867    0.376812     0.079985            0.101409   \n",
       "std      0.779726   81.604518    0.188456     0.107870            0.088196   \n",
       "min      0.000000    0.000000    0.000000     0.000000            0.000000   \n",
       "25%      0.000000   13.000000    0.269231     0.000000            0.037037   \n",
       "50%      0.000000   40.000000    0.364198     0.041096            0.094183   \n",
       "75%      1.000000  101.000000    0.494253     0.111111            0.148936   \n",
       "max      5.000000  456.000000    1.000000     0.676230            1.000000   \n",
       "\n",
       "       Fouls_ratio  Passes_ratio  \n",
       "count   517.000000    517.000000  \n",
       "mean      0.707616     30.504284  \n",
       "std       0.414354     16.163074  \n",
       "min       0.000000      0.000000  \n",
       "25%       0.470000     19.360784  \n",
       "50%       0.714286     28.965517  \n",
       "75%       0.961538     40.493506  \n",
       "max       2.000000     84.863636  "
      ]
     },
     "execution_count": 32,
     "metadata": {},
     "output_type": "execute_result"
    }
   ],
   "source": [
    "df.describe()"
   ]
  },
  {
   "cell_type": "code",
   "execution_count": 33,
   "metadata": {},
   "outputs": [
    {
     "data": {
      "text/html": [
       "<div>\n",
       "<style scoped>\n",
       "    .dataframe tbody tr th:only-of-type {\n",
       "        vertical-align: middle;\n",
       "    }\n",
       "\n",
       "    .dataframe tbody tr th {\n",
       "        vertical-align: top;\n",
       "    }\n",
       "\n",
       "    .dataframe thead th {\n",
       "        text-align: right;\n",
       "    }\n",
       "</style>\n",
       "<table border=\"1\" class=\"dataframe\">\n",
       "  <thead>\n",
       "    <tr style=\"text-align: right;\">\n",
       "      <th></th>\n",
       "      <th>index</th>\n",
       "      <th>Age</th>\n",
       "      <th>Apps</th>\n",
       "      <th>HeightCM</th>\n",
       "      <th>WeightKG</th>\n",
       "      <th>Goals</th>\n",
       "      <th>Assists</th>\n",
       "      <th>Passes</th>\n",
       "      <th>Wins</th>\n",
       "      <th>Losses</th>\n",
       "      <th>Yellowcards</th>\n",
       "      <th>Redcards</th>\n",
       "      <th>Fouls</th>\n",
       "      <th>Wins_ratio</th>\n",
       "      <th>Goals_ratio</th>\n",
       "      <th>Yellowcardsd_ratio</th>\n",
       "      <th>Fouls_ratio</th>\n",
       "      <th>Passes_ratio</th>\n",
       "    </tr>\n",
       "  </thead>\n",
       "  <tbody>\n",
       "    <tr>\n",
       "      <th>count</th>\n",
       "      <td>51.000000</td>\n",
       "      <td>51.000000</td>\n",
       "      <td>51.000000</td>\n",
       "      <td>51.000000</td>\n",
       "      <td>51.000000</td>\n",
       "      <td>51.000000</td>\n",
       "      <td>51.000000</td>\n",
       "      <td>51.000000</td>\n",
       "      <td>51.000000</td>\n",
       "      <td>51.000000</td>\n",
       "      <td>51.000000</td>\n",
       "      <td>51.000000</td>\n",
       "      <td>51.000000</td>\n",
       "      <td>51.000000</td>\n",
       "      <td>51.000000</td>\n",
       "      <td>51.000000</td>\n",
       "      <td>51.000000</td>\n",
       "      <td>51.000000</td>\n",
       "    </tr>\n",
       "    <tr>\n",
       "      <th>mean</th>\n",
       "      <td>234.823529</td>\n",
       "      <td>30.019608</td>\n",
       "      <td>79.803922</td>\n",
       "      <td>190.666667</td>\n",
       "      <td>83.658348</td>\n",
       "      <td>0.019608</td>\n",
       "      <td>0.215686</td>\n",
       "      <td>2030.627451</td>\n",
       "      <td>33.529412</td>\n",
       "      <td>27.882353</td>\n",
       "      <td>2.352941</td>\n",
       "      <td>0.156863</td>\n",
       "      <td>1.176471</td>\n",
       "      <td>0.358335</td>\n",
       "      <td>0.000198</td>\n",
       "      <td>0.029143</td>\n",
       "      <td>0.030288</td>\n",
       "      <td>25.087422</td>\n",
       "    </tr>\n",
       "    <tr>\n",
       "      <th>std</th>\n",
       "      <td>147.791976</td>\n",
       "      <td>4.545284</td>\n",
       "      <td>90.288874</td>\n",
       "      <td>4.226898</td>\n",
       "      <td>6.176912</td>\n",
       "      <td>0.140028</td>\n",
       "      <td>0.540878</td>\n",
       "      <td>2197.157527</td>\n",
       "      <td>45.448588</td>\n",
       "      <td>29.622726</td>\n",
       "      <td>2.784410</td>\n",
       "      <td>0.418213</td>\n",
       "      <td>1.728651</td>\n",
       "      <td>0.209640</td>\n",
       "      <td>0.001414</td>\n",
       "      <td>0.038171</td>\n",
       "      <td>0.139355</td>\n",
       "      <td>5.033136</td>\n",
       "    </tr>\n",
       "    <tr>\n",
       "      <th>min</th>\n",
       "      <td>0.000000</td>\n",
       "      <td>21.000000</td>\n",
       "      <td>1.000000</td>\n",
       "      <td>178.000000</td>\n",
       "      <td>73.000000</td>\n",
       "      <td>0.000000</td>\n",
       "      <td>0.000000</td>\n",
       "      <td>9.000000</td>\n",
       "      <td>0.000000</td>\n",
       "      <td>0.000000</td>\n",
       "      <td>0.000000</td>\n",
       "      <td>0.000000</td>\n",
       "      <td>0.000000</td>\n",
       "      <td>0.000000</td>\n",
       "      <td>0.000000</td>\n",
       "      <td>0.000000</td>\n",
       "      <td>0.000000</td>\n",
       "      <td>9.000000</td>\n",
       "    </tr>\n",
       "    <tr>\n",
       "      <th>25%</th>\n",
       "      <td>116.500000</td>\n",
       "      <td>27.000000</td>\n",
       "      <td>5.000000</td>\n",
       "      <td>188.000000</td>\n",
       "      <td>80.000000</td>\n",
       "      <td>0.000000</td>\n",
       "      <td>0.000000</td>\n",
       "      <td>123.000000</td>\n",
       "      <td>2.000000</td>\n",
       "      <td>2.000000</td>\n",
       "      <td>0.000000</td>\n",
       "      <td>0.000000</td>\n",
       "      <td>0.000000</td>\n",
       "      <td>0.264450</td>\n",
       "      <td>0.000000</td>\n",
       "      <td>0.000000</td>\n",
       "      <td>0.000000</td>\n",
       "      <td>23.741304</td>\n",
       "    </tr>\n",
       "    <tr>\n",
       "      <th>50%</th>\n",
       "      <td>230.000000</td>\n",
       "      <td>30.000000</td>\n",
       "      <td>44.000000</td>\n",
       "      <td>191.000000</td>\n",
       "      <td>84.000000</td>\n",
       "      <td>0.000000</td>\n",
       "      <td>0.000000</td>\n",
       "      <td>1140.000000</td>\n",
       "      <td>17.000000</td>\n",
       "      <td>18.000000</td>\n",
       "      <td>1.000000</td>\n",
       "      <td>0.000000</td>\n",
       "      <td>0.000000</td>\n",
       "      <td>0.361905</td>\n",
       "      <td>0.000000</td>\n",
       "      <td>0.020833</td>\n",
       "      <td>0.000000</td>\n",
       "      <td>25.909091</td>\n",
       "    </tr>\n",
       "    <tr>\n",
       "      <th>75%</th>\n",
       "      <td>337.500000</td>\n",
       "      <td>34.000000</td>\n",
       "      <td>115.500000</td>\n",
       "      <td>193.000000</td>\n",
       "      <td>87.000000</td>\n",
       "      <td>0.000000</td>\n",
       "      <td>0.000000</td>\n",
       "      <td>2802.500000</td>\n",
       "      <td>42.000000</td>\n",
       "      <td>43.500000</td>\n",
       "      <td>4.000000</td>\n",
       "      <td>0.000000</td>\n",
       "      <td>2.000000</td>\n",
       "      <td>0.498529</td>\n",
       "      <td>0.000000</td>\n",
       "      <td>0.042100</td>\n",
       "      <td>0.020518</td>\n",
       "      <td>28.187271</td>\n",
       "    </tr>\n",
       "    <tr>\n",
       "      <th>max</th>\n",
       "      <td>495.000000</td>\n",
       "      <td>39.000000</td>\n",
       "      <td>340.000000</td>\n",
       "      <td>201.000000</td>\n",
       "      <td>98.000000</td>\n",
       "      <td>1.000000</td>\n",
       "      <td>2.000000</td>\n",
       "      <td>7522.000000</td>\n",
       "      <td>186.000000</td>\n",
       "      <td>112.000000</td>\n",
       "      <td>11.000000</td>\n",
       "      <td>2.000000</td>\n",
       "      <td>7.000000</td>\n",
       "      <td>1.000000</td>\n",
       "      <td>0.010101</td>\n",
       "      <td>0.200000</td>\n",
       "      <td>1.000000</td>\n",
       "      <td>36.038462</td>\n",
       "    </tr>\n",
       "  </tbody>\n",
       "</table>\n",
       "</div>"
      ],
      "text/plain": [
       "            index        Age        Apps    HeightCM   WeightKG      Goals  \\\n",
       "count   51.000000  51.000000   51.000000   51.000000  51.000000  51.000000   \n",
       "mean   234.823529  30.019608   79.803922  190.666667  83.658348   0.019608   \n",
       "std    147.791976   4.545284   90.288874    4.226898   6.176912   0.140028   \n",
       "min      0.000000  21.000000    1.000000  178.000000  73.000000   0.000000   \n",
       "25%    116.500000  27.000000    5.000000  188.000000  80.000000   0.000000   \n",
       "50%    230.000000  30.000000   44.000000  191.000000  84.000000   0.000000   \n",
       "75%    337.500000  34.000000  115.500000  193.000000  87.000000   0.000000   \n",
       "max    495.000000  39.000000  340.000000  201.000000  98.000000   1.000000   \n",
       "\n",
       "         Assists       Passes        Wins      Losses  Yellowcards   Redcards  \\\n",
       "count  51.000000    51.000000   51.000000   51.000000    51.000000  51.000000   \n",
       "mean    0.215686  2030.627451   33.529412   27.882353     2.352941   0.156863   \n",
       "std     0.540878  2197.157527   45.448588   29.622726     2.784410   0.418213   \n",
       "min     0.000000     9.000000    0.000000    0.000000     0.000000   0.000000   \n",
       "25%     0.000000   123.000000    2.000000    2.000000     0.000000   0.000000   \n",
       "50%     0.000000  1140.000000   17.000000   18.000000     1.000000   0.000000   \n",
       "75%     0.000000  2802.500000   42.000000   43.500000     4.000000   0.000000   \n",
       "max     2.000000  7522.000000  186.000000  112.000000    11.000000   2.000000   \n",
       "\n",
       "           Fouls  Wins_ratio  Goals_ratio  Yellowcardsd_ratio  Fouls_ratio  \\\n",
       "count  51.000000   51.000000    51.000000           51.000000    51.000000   \n",
       "mean    1.176471    0.358335     0.000198            0.029143     0.030288   \n",
       "std     1.728651    0.209640     0.001414            0.038171     0.139355   \n",
       "min     0.000000    0.000000     0.000000            0.000000     0.000000   \n",
       "25%     0.000000    0.264450     0.000000            0.000000     0.000000   \n",
       "50%     0.000000    0.361905     0.000000            0.020833     0.000000   \n",
       "75%     2.000000    0.498529     0.000000            0.042100     0.020518   \n",
       "max     7.000000    1.000000     0.010101            0.200000     1.000000   \n",
       "\n",
       "       Passes_ratio  \n",
       "count     51.000000  \n",
       "mean      25.087422  \n",
       "std        5.033136  \n",
       "min        9.000000  \n",
       "25%       23.741304  \n",
       "50%       25.909091  \n",
       "75%       28.187271  \n",
       "max       36.038462  "
      ]
     },
     "execution_count": 33,
     "metadata": {},
     "output_type": "execute_result"
    }
   ],
   "source": [
    "df.loc[df.Position == \"Goalkeeper\"].describe()"
   ]
  },
  {
   "cell_type": "code",
   "execution_count": 34,
   "metadata": {},
   "outputs": [
    {
     "name": "stdout",
     "output_type": "stream",
     "text": [
      "Mean of Goalkeepers' height is significantly different from the mean of other positions' height\n",
      " p value =1.5487737441784005e-22 \n"
     ]
    }
   ],
   "source": [
    "data1 = df.loc[df.Position == \"Goalkeeper\"][\"HeightCM\"].values\n",
    "data2 = df.loc[df.Position != \"Goalkeeper\"][\"HeightCM\"].values\n",
    "\n",
    "ttest, pVal = stats.ttest_ind(data1,data2)\n",
    "\n",
    "if pVal < 0.05:\n",
    "    print(\"Mean of Goalkeepers' height is significantly different from the mean of other positions' height\")\n",
    "    print(' p value ={0} '.format(pVal))"
   ]
  },
  {
   "cell_type": "markdown",
   "metadata": {},
   "source": [
    "#### So the p-value was less than alpha which means we have to reject the null hypothesis.."
   ]
  },
  {
   "cell_type": "code",
   "execution_count": null,
   "metadata": {},
   "outputs": [],
   "source": []
  }
 ],
 "metadata": {
  "kernelspec": {
   "display_name": "Python 3",
   "language": "python",
   "name": "python3"
  },
  "language_info": {
   "codemirror_mode": {
    "name": "ipython",
    "version": 3
   },
   "file_extension": ".py",
   "mimetype": "text/x-python",
   "name": "python",
   "nbconvert_exporter": "python",
   "pygments_lexer": "ipython3",
   "version": "3.8.5"
  }
 },
 "nbformat": 4,
 "nbformat_minor": 4
}
